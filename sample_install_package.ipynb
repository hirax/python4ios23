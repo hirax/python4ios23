{
 "cells": [
  {
   "cell_type": "code",
   "execution_count": 1,
   "metadata": {},
   "outputs": [
    {
     "name": "stdout",
     "output_type": "stream",
     "text": [
      "Found existing installation: rubicon-objc 0.4.2\n",
      "Uninstalling rubicon-objc-0.4.2:\n",
      "  Would remove:\n",
      "    /private/var/mobile/Containers/Data/Application/8DE727D5-8186-4EE4-82B0-8885F5280A19/Library/lib/python3.11/site-packages/rubicon/objc/*\n",
      "    /private/var/mobile/Containers/Data/Application/8DE727D5-8186-4EE4-82B0-8885F5280A19/Library/lib/python3.11/site-packages/rubicon_objc-0.4.2-py3.10-nspkg.pth\n",
      "    /private/var/mobile/Containers/Data/Application/8DE727D5-8186-4EE4-82B0-8885F5280A19/Library/lib/python3.11/site-packages/rubicon_objc-0.4.2.dist-info/*\n",
      "Proceed (Y/n)? \r"
     ]
    },
    {
     "name": "stderr",
     "output_type": "stream",
     "text": [
      "ERROR: Exception:\n",
      "Traceback (most recent call last):\n",
      "  File \"/private/var/containers/Bundle/Application/146C2CAC-C71F-43AF-8C04-A2BB3FB2A497/Carnets-sci.app/Library/lib/python3.11/site-packages/pip/_internal/cli/base_command.py\", line 160, in exc_logging_wrapper\n",
      "    status = run_func(*args)\n",
      "             ^^^^^^^^^^^^^^^\n",
      "  File \"/private/var/containers/Bundle/Application/146C2CAC-C71F-43AF-8C04-A2BB3FB2A497/Carnets-sci.app/Library/lib/python3.11/site-packages/pip/_internal/commands/uninstall.py\", line 98, in run\n",
      "    uninstall_pathset = req.uninstall(\n",
      "                        ^^^^^^^^^^^^^^\n",
      "  File \"/private/var/containers/Bundle/Application/146C2CAC-C71F-43AF-8C04-A2BB3FB2A497/Carnets-sci.app/Library/lib/python3.11/site-packages/pip/_internal/req/req_install.py\", line 660, in uninstall\n",
      "    uninstalled_pathset.remove(auto_confirm, verbose)\n",
      "  File \"/private/var/containers/Bundle/Application/146C2CAC-C71F-43AF-8C04-A2BB3FB2A497/Carnets-sci.app/Library/lib/python3.11/site-packages/pip/_internal/req/req_uninstall.py\", line 367, in remove\n",
      "    if auto_confirm or self._allowed_to_proceed(verbose):\n",
      "                       ^^^^^^^^^^^^^^^^^^^^^^^^^^^^^^^^^\n",
      "  File \"/private/var/containers/Bundle/Application/146C2CAC-C71F-43AF-8C04-A2BB3FB2A497/Carnets-sci.app/Library/lib/python3.11/site-packages/pip/_internal/req/req_uninstall.py\", line 407, in _allowed_to_proceed\n",
      "    return ask(\"Proceed (Y/n)? \", (\"y\", \"n\", \"\")) != \"n\"\n",
      "           ^^^^^^^^^^^^^^^^^^^^^^^^^^^^^^^^^^^^^^\n",
      "  File \"/private/var/containers/Bundle/Application/146C2CAC-C71F-43AF-8C04-A2BB3FB2A497/Carnets-sci.app/Library/lib/python3.11/site-packages/pip/_internal/utils/misc.py\", line 190, in ask\n",
      "    response = input(message)\n",
      "               ^^^^^^^^^^^^^^\n",
      "EOFError: EOF when reading a line\n",
      "\r"
     ]
    },
    {
     "name": "stdout",
     "output_type": "stream",
     "text": [
      "Note: you may need to restart the kernel to use updated packages.\n"
     ]
    }
   ],
   "source": [
    "# rubicon-objcをインストールする\n",
    "%pip uninstall rubicon-objc"
   ]
  },
  {
   "cell_type": "code",
   "execution_count": 1,
   "metadata": {},
   "outputs": [
    {
     "name": "stdout",
     "output_type": "stream",
     "text": [
      "/private/var/mobile/Containers/Data/Application/8DE727D5-8186-4EE4-82B0-8885F5280A19/Documents/notebooks/package\n"
     ]
    }
   ],
   "source": [
    "# パッケージがあるディレクトリに移動する\n",
    "%cd ./package"
   ]
  },
  {
   "cell_type": "code",
   "execution_count": 2,
   "metadata": {
    "scrolled": true
   },
   "outputs": [
    {
     "name": "stdout",
     "output_type": "stream",
     "text": [
      "\u001b[1m\u001b[34markit\u001b[39;49m\u001b[0m\n",
      "\u001b[1m\u001b[34maudiotoolbox\u001b[39;49m\u001b[0m\n",
      "\u001b[1m\u001b[34mavfaudio\u001b[39;49m\u001b[0m\n",
      "\u001b[1m\u001b[34mavfoundation\u001b[39;49m\u001b[0m\n",
      "\u001b[1m\u001b[34mclasses\u001b[39;49m\u001b[0m\n",
      "\u001b[1m\u001b[34mcorebluetooth\u001b[39;49m\u001b[0m\n",
      "\u001b[1m\u001b[34mcoreimage\u001b[39;49m\u001b[0m\n",
      "\u001b[1m\u001b[34mcorelocation\u001b[39;49m\u001b[0m\n",
      "\u001b[1m\u001b[34mcoreml\u001b[39;49m\u001b[0m\n",
      "\u001b[1m\u001b[34mcoremotion\u001b[39;49m\u001b[0m\n",
      "\u001b[1m\u001b[34mobjc_util\u001b[39;49m\u001b[0m\n",
      "\u001b[1m\u001b[34mpython4ios.egg-info\u001b[39;49m\u001b[0m\n",
      "readme.txt\n",
      "setup.py\n",
      "\u001b[1m\u001b[34mspeech\u001b[39;49m\u001b[0m\n",
      "\u001b[1m\u001b[34muikit\u001b[39;49m\u001b[0m\n",
      "\r"
     ]
    }
   ],
   "source": [
    "# 中身を確認する\n",
    "!ls"
   ]
  },
  {
   "cell_type": "code",
   "execution_count": 3,
   "metadata": {},
   "outputs": [
    {
     "name": "stdout",
     "output_type": "stream",
     "text": [
      "Defaulting to user installation because normal site-packages is not writeable\n",
      "Processing /private/var/mobile/Containers/Data/Application/8DE727D5-8186-4EE4-82B0-8885F5280A19/Documents/notebooks/package\n",
      "  Preparing metadata (setup.py): started\n",
      "  Preparing metadata (setup.py): finished with status 'done'\n",
      "Building wheels for collected packages: python4ios\n",
      "  Building wheel for python4ios (setup.py): started\n",
      "  Building wheel for python4ios (setup.py): finished with status 'done'\n",
      "  Created wheel for python4ios: filename=python4ios-0.0.1-py3-none-any.whl size=78408 sha256=226df4a80820e705a3ce17d340afb10944b55d08d5ea71d61ed48030de7a5f13\n",
      "  Stored in directory: /private/var/mobile/Containers/Data/Application/8DE727D5-8186-4EE4-82B0-8885F5280A19/tmp/pip-ephem-wheel-cache-kc9dimpo/wheels/41/8b/7d/814e05eb2a7c7fb7e7e28854eeacd7710e9188586ca9d23f96\n",
      "Successfully built python4ios\n",
      "Installing collected packages: python4ios\n",
      "Successfully installed python4ios-0.0.1\n",
      "\r"
     ]
    },
    {
     "name": "stderr",
     "output_type": "stream",
     "text": [
      "\n",
      "[notice] A new release of pip available: 22.3.1 -> 23.2.1\n",
      "[notice] To update, run: pip install --upgrade pip\n",
      "\r"
     ]
    },
    {
     "name": "stdout",
     "output_type": "stream",
     "text": [
      "Note: you may need to restart the kernel to use updated packages.\n"
     ]
    }
   ],
   "source": [
    "# パッケージをインストールする\n",
    "%pip install ."
   ]
  },
  {
   "cell_type": "code",
   "execution_count": 5,
   "metadata": {},
   "outputs": [
    {
     "name": "stdout",
     "output_type": "stream",
     "text": [
      "Package                           Version\n",
      "--------------------------------- ---------------------------\n",
      "access                            1.1.8\n",
      "affine                            2.4.0\n",
      "anyio                             3.6.2\n",
      "appnope                           0.1.3\n",
      "argon2-cffi                       21.3.0\n",
      "argon2-cffi-bindings              21.2.0\n",
      "arrow                             1.2.3\n",
      "astropy                           5.1.1\n",
      "asttokens                         2.2.1\n",
      "attrs                             22.2.0\n",
      "Babel                             2.11.0\n",
      "backcall                          0.2.0\n",
      "beautifulsoup4                    4.11.1\n",
      "bleach                            6.0.0\n",
      "bokeh                             3.0.2\n",
      "branca                            0.5.0\n",
      "Cartopy                           0.21.0\n",
      "certifi                           2022.12.7\n",
      "cffi                              1.15.1\n",
      "charset-normalizer                3.0.1\n",
      "click                             8.1.3\n",
      "click-plugins                     1.1.1\n",
      "cligj                             0.7.2\n",
      "contextily                        1.2.0\n",
      "contourpy                         1.0.5\n",
      "coremltools                       6.0\n",
      "coverage                          7.1.0\n",
      "cppy                              1.2.1\n",
      "cryptography                      3.4.8\n",
      "cvxopt                            1.3.0\n",
      "cycler                            0.11.0\n",
      "Cython                            0.29.32\n",
      "debugpy                           1.6.6\n",
      "decorator                         5.1.1\n",
      "defusedxml                        0.7.1\n",
      "deprecation                       2.1.0\n",
      "dill                              0.3.6\n",
      "distro                            1.8.0\n",
      "docutils                          0.19\n",
      "entrypoints                       0.4\n",
      "esda                              2.4.3\n",
      "executing                         1.2.0\n",
      "extension-helpers                 1.0.0\n",
      "fastjsonschema                    2.16.2\n",
      "Fiona                             1.8.22\n",
      "Fiona                             1.8.22\n",
      "Fiona                             1.8.22\n",
      "folium                            0.12.1.post1\n",
      "fonttools                         4.38.0\n",
      "fqdn                              1.5.1\n",
      "geographiclib                     2.0\n",
      "geopandas                         0.12.2\n",
      "geopy                             2.3.0\n",
      "gym                               0.26.2\n",
      "html5lib                          1.1\n",
      "idna                              3.4\n",
      "inequality                        1.0.0\n",
      "iniconfig                         2.0.0\n",
      "install                           1.3.5\n",
      "ipykernel                         6.5.0\n",
      "ipympl                            0.9.2\n",
      "ipympl                            0.9.2\n",
      "ipysheet                          0.7.0\n",
      "ipython                           8.5.0\n",
      "ipython-genutils                  0.2.0\n",
      "ipywidgets                        8.0.4\n",
      "isoduration                       20.11.0\n",
      "jedi                              0.18.2\n",
      "Jinja2                            3.1.2\n",
      "joblib                            1.2.0\n",
      "json5                             0.9.11\n",
      "jsonpointer                       2.3\n",
      "jsonschema                        4.17.3\n",
      "jupyter                           1.0.0\n",
      "jupyter-bokeh                     3.0.5\n",
      "jupyter-bokeh                     3.0.5\n",
      "jupyter_client                    7.4.7\n",
      "jupyter-console                   6.4.4\n",
      "jupyter-contrib-core              0.4.2\n",
      "jupyter-contrib-nbextensions      0.7.0\n",
      "jupyter_core                      5.1.5\n",
      "jupyter-events                    0.6.3\n",
      "jupyter-highlight-selected-word   0.2.0\n",
      "jupyter-nbextensions-configurator 0.6.1\n",
      "jupyter_packaging                 0.12.3\n",
      "jupyter_server                    2.1.0\n",
      "jupyter-server                    1.23.5\n",
      "jupyter_server_terminals          0.4.4\n",
      "jupyterlab                        3.5.0\n",
      "jupyterlab                        3.4.8\n",
      "jupyterlab-language-pack-ar-SA    3.5.post4\n",
      "jupyterlab-language-pack-ca-ES    3.5.post4\n",
      "jupyterlab-language-pack-cs-CZ    3.5.post4\n",
      "jupyterlab-language-pack-da-DK    3.5.post4\n",
      "jupyterlab-language-pack-de-DE    3.5.post4\n",
      "jupyterlab-language-pack-el-GR    3.5.post4\n",
      "jupyterlab-language-pack-es-ES    3.5.post4\n",
      "jupyterlab-language-pack-et-EE    3.5.post4\n",
      "jupyterlab-language-pack-fi-FI    3.5.post4\n",
      "jupyterlab-language-pack-fr-FR    3.5.post4\n",
      "jupyterlab-language-pack-he-IL    3.5.post4\n",
      "jupyterlab-language-pack-hu-HU    3.5.post4\n",
      "jupyterlab-language-pack-hy-AM    3.5.post4\n",
      "jupyterlab-language-pack-id-ID    3.5.post4\n",
      "jupyterlab-language-pack-it-IT    3.5.post4\n",
      "jupyterlab-language-pack-ja-JP    3.5.post4\n",
      "jupyterlab-language-pack-ko-KR    3.5.post4\n",
      "jupyterlab-language-pack-lt-LT    3.5.post4\n",
      "jupyterlab-language-pack-nl-NL    3.5.post4\n",
      "jupyterlab-language-pack-no-NO    3.5.post4\n",
      "jupyterlab-language-pack-pl-PL    3.5.post4\n",
      "jupyterlab-language-pack-pt-BR    3.5.post4\n",
      "jupyterlab-language-pack-ro-RO    3.5.post4\n",
      "jupyterlab-language-pack-ru-RU    3.5.post4\n",
      "jupyterlab-language-pack-tr-TR    3.5.post4\n",
      "jupyterlab-language-pack-uk-UA    3.5.post4\n",
      "jupyterlab-language-pack-vi-VN    3.5.post4\n",
      "jupyterlab-language-pack-zh-CN    3.5.post4\n",
      "jupyterlab-language-pack-zh-TW    3.5.post4\n",
      "jupyterlab-pygments               0.2.2\n",
      "jupyterlab_server                 2.19.0\n",
      "jupyterlab-widgets                3.0.5\n",
      "k3d                               2.15.2\n",
      "kiwisolver                        1.4.4\n",
      "libpysal                          4.7.0\n",
      "lxml                              4.9.1\n",
      "mapclassify                       2.5.0\n",
      "MarkupSafe                        2.1.1\n",
      "matplotlib                        3.7.0.dev641+g768ff8450\n",
      "matplotlib-inline                 0.1.6\n",
      "mercantile                        1.2.1\n",
      "mgwr                              2.1.2\n",
      "mistune                           2.0.4\n",
      "momepy                            0.5.4\n",
      "mpmath                            1.2.1\n",
      "mpmath                            1.2.1\n",
      "mpmath                            1.2.1\n",
      "msgpack                           1.0.5\n",
      "munch                             2.5.0\n",
      "nbclassic                         0.4.8\n",
      "nbclient                          0.7.2\n",
      "nbconvert                         7.2.9\n",
      "nbformat                          5.7.3\n",
      "nest-asyncio                      1.5.6\n",
      "networkx                          3.0\n",
      "nltk                              3.7\n",
      "notebook                          6.5.2\n",
      "notebook_shim                     0.2.2\n",
      "numpy                             1.24.0.dev0+1021.g61098c4a4\n",
      "opencv-contrib-python-headless    4.5.2+1ccaef6\n",
      "opencv-contrib-python-headless    4.5.2+1ccaef6\n",
      "packaging                         23.0\n",
      "pandas                            1.5.2\n",
      "pandas                            1.5.2\n",
      "pandocfilters                     1.5.0\n",
      "parso                             0.8.3\n",
      "patsy                             0.5.3\n",
      "pexpect                           4.8.0\n",
      "pickleshare                       0.7.5\n",
      "Pillow                            9.3.0\n",
      "pip                               22.3.1\n",
      "platformdirs                      2.6.2\n",
      "pluggy                            1.0.0\n",
      "pointpats                         2.2.0\n",
      "prometheus-client                 0.16.0\n",
      "prompt-toolkit                    3.0.36\n",
      "protobuf                          3.20.1\n",
      "protobuf                          3.20.1\n",
      "protobuf                          3.20.1\n",
      "ptyprocess                        0.7.0\n",
      "PuLP                              2.7.0\n",
      "pure-eval                         0.2.2\n",
      "pybind11                          2.11.0.dev1\n",
      "pycparser                         2.21\n",
      "pydub                             0.25.1\n",
      "pyerfa                            2.0.0.1\n",
      "pyerfa                            2.0.0.1\n",
      "pyFFTW                            0.12.0\n",
      "pyFFTW                            0.12.0\n",
      "pyFFTW                            0.12.0\n",
      "pygeos                            0.13\n",
      "pygeos                            0.13\n",
      "Pygments                          2.14.0\n",
      "pyparsing                         3.0.9\n",
      "pyproj                            3.4.1\n",
      "pyproj                            3.4.1\n",
      "pyrsistent                        0.18.1\n",
      "pysal                             2.4.0\n",
      "pyshp                             2.3.1\n",
      "pytest                            7.2.1\n",
      "pytest-cov                        4.0.0\n",
      "python-dateutil                   2.8.2\n",
      "python-json-logger                2.0.4\n",
      "python4ios                        0.0.1\n",
      "pythonista-multipeer              1.0.1\n",
      "pytz                              2022.7.1\n",
      "PyYAML                            6.0\n"
     ]
    },
    {
     "name": "stdout",
     "output_type": "stream",
     "text": [
      "pyzmq                             24.0.1\n",
      "pyzmq                             24.0.1\n",
      "qtconsole                         5.4.0\n",
      "QtPy                              2.3.0\n",
      "qutip                             4.7.1\n",
      "qutip                             4.7.1\n",
      "rasterio                          1.3.4\n",
      "rasterio                          1.3.4\n",
      "rasterstats                       0.17.0\n",
      "regex                             2022.10.31\n",
      "requests                          2.28.2\n",
      "retrolab                          0.3.21\n",
      "retrolab                          0.3.21\n",
      "rfc3339-validator                 0.1.4\n",
      "rfc3986-validator                 0.1.1\n",
      "Rtree                             1.0.1\n",
      "Rtree                             1.0.1\n",
      "rubicon-objc                      0.4.2\n",
      "scikit-build                      0.11.2.dev202+g9cc7823\n",
      "scikit-build                      0.11.2.dev202+g9cc7823\n",
      "scikit-learn                      1.1.3\n",
      "SciPy                             1.9.3\n",
      "seaborn                           0.12.2\n",
      "segregation                       2.0.0\n",
      "semantic-version                  2.10.0\n",
      "Send2Trash                        1.8.0\n",
      "setuptools                        67.0.0\n",
      "setuptools-rust                   1.5.2\n",
      "setuptools-scm                    7.1.0\n",
      "Shapely                           1.8.5.post1\n",
      "Shapely                           1.8.5.post1\n",
      "simplejson                        3.18.1\n",
      "six                               1.16.0\n",
      "sniffio                           1.3.0\n",
      "snuggs                            1.4.7\n",
      "soupsieve                         2.3.2.post1\n",
      "spaghetti                         1.7.2\n",
      "spglm                             1.0.8\n",
      "spint                             1.0.7\n",
      "spopt                             0.5.0\n",
      "spreg                             1.3.0\n",
      "spvcm                             0.3.0\n",
      "stack-data                        0.6.2\n",
      "statsmodels                       0.13.5\n",
      "statsmodels                       0.13.5\n",
      "sympy                             1.11.1\n",
      "terminado                         0.17.1\n",
      "testpath                          0.6.0\n",
      "threadpoolctl                     3.1.0\n",
      "tinycss2                          1.2.1\n",
      "tobler                            0.9.0\n",
      "tomli                             2.0.1\n",
      "tomlkit                           0.11.6\n",
      "tornado                           6.2\n",
      "tqdm                              4.64.1\n",
      "traitlets                         5.8.1\n",
      "traittypes                        0.2.1\n",
      "trimesh                           3.21.2\n",
      "typing_extensions                 4.4.0\n",
      "uri-template                      1.2.0\n",
      "urllib3                           1.26.14\n",
      "wcwidth                           0.2.6\n",
      "webcolors                         1.12\n",
      "webencodings                      0.5.1\n",
      "websocket-client                  1.5.0\n",
      "wheel                             0.38.4\n",
      "widgetsnbextension                4.0.5\n",
      "wordcloud                         1.8.1\n",
      "xyzservices                       2022.9.0\n",
      "\r"
     ]
    },
    {
     "name": "stderr",
     "output_type": "stream",
     "text": [
      "\n",
      "[notice] A new release of pip available: 22.3.1 -> 23.2.1\n",
      "[notice] To update, run: pip install --upgrade pip\n",
      "\r"
     ]
    },
    {
     "name": "stdout",
     "output_type": "stream",
     "text": [
      "Note: you may need to restart the kernel to use updated packages.\n"
     ]
    }
   ],
   "source": [
    "# インストールできたか確認する\n",
    "%pip list"
   ]
  },
  {
   "cell_type": "code",
   "execution_count": 4,
   "metadata": {},
   "outputs": [
    {
     "name": "stdout",
     "output_type": "stream",
     "text": [
      "/private/var/mobile/Containers/Data/Application/8DE727D5-8186-4EE4-82B0-8885F5280A19/Documents/notebooks/objc_tools\n",
      "Defaulting to user installation because normal site-packages is not writeable\n",
      "Processing /private/var/mobile/Containers/Data/Application/8DE727D5-8186-4EE4-82B0-8885F5280A19/Documents/notebooks/objc_tools\n",
      "  Preparing metadata (setup.py): started\n",
      "  Preparing metadata (setup.py): finished with status 'error'\n",
      "\r"
     ]
    },
    {
     "name": "stderr",
     "output_type": "stream",
     "text": [
      "  error: subprocess-exited-with-error\n",
      "  \n",
      "  × python setup.py egg_info did not run successfully.\n",
      "  │ exit code: 1\n",
      "  ╰─> [7 lines of output]\n",
      "      running egg_info\n",
      "      creating /private/var/mobile/Containers/Data/Application/8DE727D5-8186-4EE4-82B0-8885F5280A19/tmp/pip-pip-egg-info-24cv_xs3/python4ios.egg-info\n",
      "      writing /private/var/mobile/Containers/Data/Application/8DE727D5-8186-4EE4-82B0-8885F5280A19/tmp/pip-pip-egg-info-24cv_xs3/python4ios.egg-info/PKG-INFO\n",
      "      writing dependency_links to /private/var/mobile/Containers/Data/Application/8DE727D5-8186-4EE4-82B0-8885F5280A19/tmp/pip-pip-egg-info-24cv_xs3/python4ios.egg-info/dependency_links.txt\n",
      "      writing top-level names to /private/var/mobile/Containers/Data/Application/8DE727D5-8186-4EE4-82B0-8885F5280A19/tmp/pip-pip-egg-info-24cv_xs3/python4ios.egg-info/top_level.txt\n",
      "      writing manifest file '/private/var/mobile/Containers/Data/Application/8DE727D5-8186-4EE4-82B0-8885F5280A19/tmp/pip-pip-egg-info-24cv_xs3/python4ios.egg-info/SOURCES.txt'\n",
      "      error: package directory 'arkit' does not exist\n",
      "      [end of output]\n",
      "  \n",
      "  note: This error originates from a subprocess, and is likely not a problem with pip.\n",
      "error: metadata-generation-failed\n",
      "\n",
      "× Encountered error while generating package metadata.\n",
      "╰─> See above for output.\n",
      "\n",
      "note: This is an issue with the package mentioned above, not pip.\n",
      "hint: See above for details.\n",
      "\n",
      "[notice] A new release of pip available: 22.3.1 -> 23.2.1\n",
      "[notice] To update, run: pip install --upgrade pip\n",
      "\r"
     ]
    },
    {
     "name": "stdout",
     "output_type": "stream",
     "text": [
      "Note: you may need to restart the kernel to use updated packages.\n"
     ]
    }
   ],
   "source": [
    "# パッケージがあるディレクトリに移動する\n",
    "%cd ../objc_tools\n",
    "%pip install . "
   ]
  },
  {
   "cell_type": "code",
   "execution_count": 3,
   "metadata": {},
   "outputs": [
    {
     "name": "stdout",
     "output_type": "stream",
     "text": [
      "Found existing installation: python4ios 0.0.1\n",
      "Uninstalling python4ios-0.0.1:\n",
      "  Successfully uninstalled python4ios-0.0.1\n",
      "Note: you may need to restart the kernel to use updated packages.\n"
     ]
    }
   ],
   "source": [
    "# パッケージをアンインストールする場合\n",
    "%pip uninstall -y python4ios"
   ]
  },
  {
   "cell_type": "code",
   "execution_count": 1,
   "metadata": {},
   "outputs": [
    {
     "name": "stdout",
     "output_type": "stream",
     "text": [
      "Found existing installation: objc-tools 0.0.1\n",
      "Uninstalling objc-tools-0.0.1:\n",
      "  Successfully uninstalled objc-tools-0.0.1\n",
      "Note: you may need to restart the kernel to use updated packages.\n"
     ]
    }
   ],
   "source": [
    "# パッケージをアンインストールする場合\n",
    "%pip uninstall -y objc_tools"
   ]
  },
  {
   "cell_type": "code",
   "execution_count": null,
   "metadata": {},
   "outputs": [],
   "source": []
  }
 ],
 "metadata": {
  "kernelspec": {
   "display_name": "Python 3 (ipykernel)",
   "language": "python",
   "name": "python3"
  },
  "language_info": {
   "codemirror_mode": {
    "name": "ipython",
    "version": 3
   },
   "file_extension": ".py",
   "mimetype": "text/x-python",
   "name": "python",
   "nbconvert_exporter": "python",
   "pygments_lexer": "ipython3",
   "version": "3.11.0"
  }
 },
 "nbformat": 4,
 "nbformat_minor": 2
}
