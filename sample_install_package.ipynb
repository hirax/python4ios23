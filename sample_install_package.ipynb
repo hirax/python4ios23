{
 "cells": [
  {
   "cell_type": "code",
   "execution_count": null,
   "metadata": {},
   "outputs": [],
   "source": [
    "# rubicon-objcをインストールする\n",
    "%pip uninstall rubicon-objc"
   ]
  },
  {
   "cell_type": "code",
   "execution_count": 1,
   "metadata": {},
   "outputs": [
    {
     "name": "stdout",
     "output_type": "stream",
     "text": [
      "/private/var/mobile/Containers/Data/Application/8DE727D5-8186-4EE4-82B0-8885F5280A19/Documents/notebooks/package\n"
     ]
    }
   ],
   "source": [
    "# パッケージがあるディレクトリに移動する\n",
    "%cd ./package"
   ]
  },
  {
   "cell_type": "code",
   "execution_count": 2,
   "metadata": {
    "scrolled": true
   },
   "outputs": [
    {
     "name": "stdout",
     "output_type": "stream",
     "text": [
      "\u001b[1m\u001b[34markit\u001b[39;49m\u001b[0m\n",
      "\u001b[1m\u001b[34maudiotoolbox\u001b[39;49m\u001b[0m\n",
      "\u001b[1m\u001b[34mavfaudio\u001b[39;49m\u001b[0m\n",
      "\u001b[1m\u001b[34mavfoundation\u001b[39;49m\u001b[0m\n",
      "\u001b[1m\u001b[34mclasses\u001b[39;49m\u001b[0m\n",
      "\u001b[1m\u001b[34mcorebluetooth\u001b[39;49m\u001b[0m\n",
      "\u001b[1m\u001b[34mcoreimage\u001b[39;49m\u001b[0m\n",
      "\u001b[1m\u001b[34mcorelocation\u001b[39;49m\u001b[0m\n",
      "\u001b[1m\u001b[34mcoreml\u001b[39;49m\u001b[0m\n",
      "\u001b[1m\u001b[34mcoremotion\u001b[39;49m\u001b[0m\n",
      "\u001b[1m\u001b[34mobjc_util\u001b[39;49m\u001b[0m\n",
      "\u001b[1m\u001b[34mpython4ios.egg-info\u001b[39;49m\u001b[0m\n",
      "readme.txt\n",
      "setup.py\n",
      "\u001b[1m\u001b[34mspeech\u001b[39;49m\u001b[0m\n",
      "\u001b[1m\u001b[34muikit\u001b[39;49m\u001b[0m\n",
      "\r"
     ]
    }
   ],
   "source": [
    "# 中身を確認する\n",
    "!ls"
   ]
  },
  {
   "cell_type": "code",
   "execution_count": null,
   "metadata": {},
   "outputs": [],
   "source": [
    "# パッケージをインストールする\n",
    "%pip install ."
   ]
  },
  {
   "cell_type": "code",
   "execution_count": null,
   "metadata": {},
   "outputs": [],
   "source": [
    "# インストールできたか確認する\n",
    "%pip list"
   ]
  },
  {
   "cell_type": "code",
   "execution_count": null,
   "metadata": {},
   "outputs": [],
   "source": [
    "# パッケージがあるディレクトリに移動する\n",
    "%cd ../objc_tools\n",
    "%pip install . "
   ]
  },
  {
   "cell_type": "code",
   "execution_count": 3,
   "metadata": {},
   "outputs": [
    {
     "name": "stdout",
     "output_type": "stream",
     "text": [
      "Found existing installation: python4ios 0.0.1\n",
      "Uninstalling python4ios-0.0.1:\n",
      "  Successfully uninstalled python4ios-0.0.1\n",
      "Note: you may need to restart the kernel to use updated packages.\n"
     ]
    }
   ],
   "source": [
    "# パッケージをアンインストールする場合\n",
    "%pip uninstall -y python4ios"
   ]
  },
  {
   "cell_type": "code",
   "execution_count": 1,
   "metadata": {},
   "outputs": [
    {
     "name": "stdout",
     "output_type": "stream",
     "text": [
      "Found existing installation: objc-tools 0.0.1\n",
      "Uninstalling objc-tools-0.0.1:\n",
      "  Successfully uninstalled objc-tools-0.0.1\n",
      "Note: you may need to restart the kernel to use updated packages.\n"
     ]
    }
   ],
   "source": [
    "# パッケージをアンインストールする場合\n",
    "%pip uninstall -y objc_tools"
   ]
  },
  {
   "cell_type": "code",
   "execution_count": null,
   "metadata": {},
   "outputs": [],
   "source": []
  }
 ],
 "metadata": {
  "kernelspec": {
   "display_name": "Python 3 (ipykernel)",
   "language": "python",
   "name": "python3"
  },
  "language_info": {
   "codemirror_mode": {
    "name": "ipython",
    "version": 3
   },
   "file_extension": ".py",
   "mimetype": "text/x-python",
   "name": "python",
   "nbconvert_exporter": "python",
   "pygments_lexer": "ipython3",
   "version": "3.8.16"
  },
  "toc": {
   "base_numbering": 1,
   "nav_menu": {},
   "number_sections": false,
   "sideBar": false,
   "skip_h1_title": false,
   "title_cell": "Table of Contents",
   "title_sidebar": "Contents",
   "toc_cell": false,
   "toc_position": {
    "height": "calc(100% - 180px)",
    "left": "10px",
    "top": "150px",
    "width": "229.390625px"
   },
   "toc_section_display": false,
   "toc_window_display": false
  }
 },
 "nbformat": 4,
 "nbformat_minor": 2
}
