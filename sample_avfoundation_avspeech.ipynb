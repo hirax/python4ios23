{
 "cells": [
  {
   "cell_type": "markdown",
   "metadata": {},
   "source": [
    "言葉をさまざまな音声で喋らせる例"
   ]
  },
  {
   "cell_type": "code",
   "execution_count": 1,
   "metadata": {},
   "outputs": [],
   "source": [
    "from avfoundation.av_speech_synthesizer import *\n",
    "\n",
    "speech(str=\"Hello world!\")"
   ]
  },
  {
   "cell_type": "code",
   "execution_count": null,
   "metadata": {},
   "outputs": [],
   "source": [
    "# 音声を喋らせるためのモジュールを読み込む\n",
    "from avfoundation.av_speech_synthesizer import *\n",
    "\n",
    "speech(str=\"こんにちはPython.\",rate=0.5, volume = 1.0,\n",
    "    pitchMultiplier = 1.0, preUtteranceDelay = 0.2,\n",
    "    voice='com.apple.ttsbundle.siri_Hattori_ja-JP_compact')"
   ]
  },
  {
   "cell_type": "code",
   "execution_count": null,
   "metadata": {},
   "outputs": [],
   "source": []
  }
 ],
 "metadata": {
  "celltoolbar": "Tags",
  "kernelspec": {
   "display_name": "Python 3 (ipykernel)",
   "language": "python",
   "name": "python3"
  },
  "language_info": {
   "codemirror_mode": {
    "name": "ipython",
    "version": 3
   },
   "file_extension": ".py",
   "mimetype": "text/x-python",
   "name": "python",
   "nbconvert_exporter": "python",
   "pygments_lexer": "ipython3",
   "version": "3.8.16"
  },
  "toc": {
   "base_numbering": 1,
   "nav_menu": {},
   "number_sections": true,
   "sideBar": true,
   "skip_h1_title": false,
   "title_cell": "Table of Contents",
   "title_sidebar": "Contents",
   "toc_cell": false,
   "toc_position": {},
   "toc_section_display": true,
   "toc_window_display": false
  }
 },
 "nbformat": 4,
 "nbformat_minor": 2
}
