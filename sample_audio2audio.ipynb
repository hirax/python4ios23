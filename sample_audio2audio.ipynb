{
 "cells": [
  {
   "cell_type": "markdown",
   "id": "39c60bb7",
   "metadata": {},
   "source": [
    "音声質問へのChatGPT回答を、音声で聞く"
   ]
  },
  {
   "cell_type": "code",
   "execution_count": null,
   "id": "1eb8d01c",
   "metadata": {},
   "outputs": [],
   "source": [
    "# 必要なモジュールを読み込む\n",
    "import speech.speech_recognizer as sr\n",
    "import time\n",
    "\n",
    "# 言語を指定して、音声認識用のクラスをインスタンス化する\n",
    "myRecognizer = sr.Recognizer(\"ja_JP\", # 英語なら\"en-US\"\n",
    "                             True)    # 句読点などを自動で認識するか\n",
    "myRecognizer.prepare()                # 音声認識の準備をする"
   ]
  },
  {
   "cell_type": "code",
   "execution_count": null,
   "id": "c73aafd0",
   "metadata": {},
   "outputs": [],
   "source": [
    "# 音声認識を10秒間行う\n",
    "myRecognizer.start()\n",
    "time.sleep(10)\n",
    "myRecognizer.stop()\n",
    "\n",
    "_question = myRecognizer.result"
   ]
  },
  {
   "cell_type": "code",
   "execution_count": null,
   "id": "142642e1",
   "metadata": {},
   "outputs": [],
   "source": [
    "openai.api_key = '****' # シークレットキーを設定する\n",
    "\n",
    "# _question = \"京都駅から祇園精舎までの行き方を教えて下さい。\"\n",
    "response = openai.ChatCompletion.create(\n",
    "    model=\"gpt-3.5-turbo\", # モデル\n",
    "    max_tokens=100,        # トークン数上限\n",
    "    temperature = 0.5,     # ランダム性を設定\n",
    "    messages=[{\"role\": \"user\", \"content\": _question}])"
   ]
  },
  {
   "cell_type": "code",
   "execution_count": null,
   "id": "a493ceb4",
   "metadata": {},
   "outputs": [],
   "source": [
    "#得られた答えを出力もしておく\n",
    "_content = response.choices[0][\"message\"][\"content\"].strip()\n",
    "print(_content)"
   ]
  },
  {
   "cell_type": "code",
   "execution_count": null,
   "id": "b42d106e",
   "metadata": {},
   "outputs": [],
   "source": [
    "# 音声発声に必要なモジュールを読み込む\n",
    "from avfoundation.av_speech_synthesizer import *\n",
    "# ハットリさんの声を選んで、発声させてみる\n",
    "speech(str=_content,rate=1.0, volume = 1.0,\n",
    "    pitchMultiplier = 1.0, preUtteranceDelay = 0.2,\n",
    "    voice='com.apple.ttsbundle.siri_Hattori_ja-JP_compact')"
   ]
  },
  {
   "cell_type": "code",
   "execution_count": null,
   "id": "9364b383",
   "metadata": {},
   "outputs": [],
   "source": []
  }
 ],
 "metadata": {
  "celltoolbar": "Tags",
  "kernelspec": {
   "display_name": "Python 3 (ipykernel)",
   "language": "python",
   "name": "python3"
  },
  "language_info": {
   "codemirror_mode": {
    "name": "ipython",
    "version": 3
   },
   "file_extension": ".py",
   "mimetype": "text/x-python",
   "name": "python",
   "nbconvert_exporter": "python",
   "pygments_lexer": "ipython3",
   "version": "3.8.16"
  },
  "toc": {
   "base_numbering": 1,
   "nav_menu": {},
   "number_sections": false,
   "sideBar": false,
   "skip_h1_title": false,
   "title_cell": "Table of Contents",
   "title_sidebar": "Contents",
   "toc_cell": false,
   "toc_position": {
    "height": "calc(100% - 180px)",
    "left": "10px",
    "top": "150px",
    "width": "165px"
   },
   "toc_section_display": false,
   "toc_window_display": false
  }
 },
 "nbformat": 4,
 "nbformat_minor": 5
}
