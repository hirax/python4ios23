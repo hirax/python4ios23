{
 "cells": [
  {
   "cell_type": "code",
   "execution_count": 32,
   "metadata": {},
   "outputs": [
    {
     "name": "stdout",
     "output_type": "stream",
     "text": [
      "Darwin iPad 21.6.0 Darwin Kernel Version 21.6.0: Sat Jun 18 18:56:48 PDT 2022; root:xnu-8020.140.41~4/RELEASE_ARM64_T8010 iPad7,6\n",
      "\n"
     ]
    }
   ],
   "source": [
    "import os\n",
    "\n",
    "result = os.popen('uname -a'); print(result.read())"
   ]
  },
  {
   "cell_type": "code",
   "execution_count": 34,
   "metadata": {},
   "outputs": [
    {
     "name": "stdout",
     "output_type": "stream",
     "text": [
      "/private/var/mobile/Library/Mobile Documents/com~apple~CloudDocs/Python\n",
      "\n",
      "DepthPrediction.jpg\n",
      "DepthPrediction.png\n",
      "Mona_Lisa.jpg\n",
      "_arnets_manualCapture_old_but work.ipynb\n",
      "_carnets_addPathICloud_Juno.ipynb\n",
      "_carnets_avaudio_recorder.ipynb\n",
      "_carnets_avfoundation_take_movie_depth.ipynb\n",
      "_carnets_avfoundation_take_movie_extended.ipynb\n",
      "_carnets_avfoundation_take_movie_extended_bos.ipynb\n",
      "_carnets_avfoundation_take_movie_lidar.ipynb\n",
      "_carnets_corelocation.ipynb\n",
      "_carnets_coreml_imagerecognizition.ipynb\n",
      "_carnets_coremotion_accelerometer.ipynb\n",
      "_carnets_coremotion_activity.ipynb\n",
      "_carnets_coremotion_altimeter.ipynb\n",
      "_carnets_coremotion_pedometer.ipynb\n",
      "_carnets_photo_taking.ipynb\n",
      "_carnets_screen_brightness.ipynb\n",
      "_carnets_system.ipynb\n",
      "_carnets_torch.ipynb\n",
      "_carnets_uikit_devicescreen_brightness_set.ipynb\n",
      "_carnets_uikit_take_movie.ipynb\n",
      "_carnets_uikit_take_pick_photo.ipynb\n",
      "_carnets_uikit_take_pick_photo_Juno.ipynb\n",
      "_carnets_uikit_uiimage_convert.ipynb\n",
      "_carnets_uikit_uiscreen_brightness_get.ipynb\n",
      "_carnets_uiview_.ipynb\n",
      "\u001b[1m\u001b[34m_old\u001b[39;49m\u001b[0m\n",
      "_proximitry.py\n",
      "_pythonista_accelerometer.py\n",
      "_pythonista_addPathICloud.py\n",
      "_pyto_accelerometer.py\n",
      "_pyto_addPathICloud.py\n",
      "_pyto_avspeech.py\n",
      "_pyto_manualCapture.py\n",
      "_take.MOV\n",
      "_take.jpg\n",
      "accelerometer.py\n",
      "\u001b[1m\u001b[34markit\u001b[39;49m\u001b[0m\n",
      "\u001b[1m\u001b[34maudiotoolbox\u001b[39;49m\u001b[0m\n",
      "\u001b[1m\u001b[34mavaudio\u001b[39;49m\u001b[0m\n",
      "\u001b[1m\u001b[34mavfoundation\u001b[39;49m\u001b[0m\n",
      "brett_lark_cancer_cure_pose_healing_healthy_male.jpg\n",
      "\u001b[1m\u001b[34mc.f.\u001b[39;49m\u001b[0m\n",
      "\u001b[1m\u001b[34mclasses\u001b[39;49m\u001b[0m\n",
      "\u001b[1m\u001b[34mcoreimages\u001b[39;49m\u001b[0m\n",
      "\u001b[1m\u001b[34mcorelocation\u001b[39;49m\u001b[0m\n",
      "\u001b[1m\u001b[34mcoreml\u001b[39;49m\u001b[0m\n",
      "\u001b[1m\u001b[34mcoremotion\u001b[39;49m\u001b[0m\n",
      "\u001b[1m\u001b[34mctypes\u001b[39;49m\u001b[0m\n",
      "\u001b[1m\u001b[34mframeworks\u001b[39;49m\u001b[0m\n",
      "\u001b[1m\u001b[34mmodels\u001b[39;49m\u001b[0m\n",
      "\u001b[1m\u001b[34mobjc_tools\u001b[39;49m\u001b[0m\n",
      "objc_util.oroginal.py\n",
      "objc_util.py\n",
      "objc_util_.py\n",
      "record.wav\n",
      "\u001b[1m\u001b[34mrubicon\u001b[39;49m\u001b[0m\n",
      "\u001b[1m\u001b[34mrubicon_objc\u001b[39;49m\u001b[0m\n",
      "\u001b[1m\u001b[34muikit\u001b[39;49m\u001b[0m\n",
      "\u001b[1m\u001b[34munused\u001b[39;49m\u001b[0m\n",
      "\n"
     ]
    }
   ],
   "source": [
    "result = os.popen('pwd'); print(result.read())\n",
    "result = os.popen('ls'); print(result.read())"
   ]
  },
  {
   "cell_type": "code",
   "execution_count": 37,
   "metadata": {},
   "outputs": [
    {
     "data": {
      "text/plain": [
       "<os._wrap_close at 0x129bd4f70>"
      ]
     },
     "execution_count": 37,
     "metadata": {},
     "output_type": "execute_result"
    }
   ],
   "source": [
    "os.popen('say \"hello world\"')"
   ]
  },
  {
   "cell_type": "code",
   "execution_count": 38,
   "metadata": {},
   "outputs": [
    {
     "data": {
      "text/plain": [
       "<os._wrap_close at 0x13b53e880>"
      ]
     },
     "execution_count": 38,
     "metadata": {},
     "output_type": "execute_result"
    }
   ],
   "source": [
    "os.popen('screencapture')"
   ]
  },
  {
   "cell_type": "code",
   "execution_count": null,
   "metadata": {},
   "outputs": [],
   "source": []
  }
 ],
 "metadata": {
  "kernelspec": {
   "display_name": "Python 3 (ipykernel)",
   "language": "python",
   "name": "python3"
  },
  "language_info": {
   "codemirror_mode": {
    "name": "ipython",
    "version": 3
   },
   "file_extension": ".py",
   "mimetype": "text/x-python",
   "name": "python",
   "nbconvert_exporter": "python",
   "pygments_lexer": "ipython3",
   "version": "3.8.16"
  },
  "toc": {
   "base_numbering": 1,
   "nav_menu": {},
   "number_sections": false,
   "sideBar": true,
   "skip_h1_title": false,
   "title_cell": "Table of Contents",
   "title_sidebar": "Contents",
   "toc_cell": false,
   "toc_position": {
    "height": "calc(100% - 180px)",
    "left": "10px",
    "top": "150px",
    "width": "228.796875px"
   },
   "toc_section_display": true,
   "toc_window_display": true
  }
 },
 "nbformat": 4,
 "nbformat_minor": 2
}
