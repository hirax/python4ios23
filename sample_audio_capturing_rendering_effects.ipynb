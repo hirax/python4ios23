{
 "cells": [
  {
   "cell_type": "markdown",
   "metadata": {},
   "source": [
    "# マイク音声にエフェクトを掛けて・リアルタイムに出力する"
   ]
  },
  {
   "cell_type": "code",
   "execution_count": null,
   "metadata": {},
   "outputs": [],
   "source": [
    "# conda install -c conda-forge networkx\n",
    "# pip install networkx\n",
    "# or\n",
    "# pip install networkx[all]\n",
    "\n",
    "import networkx as nx\n",
    "import matplotlib.pyplot as plt\n",
    "\n",
    "graph = nx.DiGraph({\n",
    "\"Mic\": [\"Distortion\"],\n",
    "\"Distortion\": [\"Reverb\"],\n",
    "\"Reverb\": [\"EQ\"],\n",
    "\"EQ\": [\"Mixer\"],\n",
    "\"Mixer\": [\"Output\"],\n",
    "\"Output\": []\n",
    "})\n",
    "\n",
    "#pos = nx.spring_layout(graph)\n",
    "pos = {'Mic':[0,0], 'Distortion':[1, 0], 'Reverb':[3, 0],\n",
    "       'EQ':[4, 0], 'Mixer':[5, 0], 'Output':[6, 0]}\n",
    "nx.draw(graph, pos=pos, with_labels=True, arrows=False, \n",
    "        node_shape=\"s\", node_color=\"none\",\n",
    "        bbox=dict(facecolor=\"skyblue\", \n",
    "            edgecolor='black', boxstyle='round, pad=0.3'))\n",
    "plt.show()"
   ]
  },
  {
   "cell_type": "code",
   "execution_count": null,
   "metadata": {},
   "outputs": [],
   "source": [
    "import avfaudio.audio_capturing_and_rendering_rubicon_with_effect as avf\n",
    "import time\n",
    "\n",
    "delay = avf.AVAudioUnitDelay.alloc().init()\n",
    "reverb =  avf.AVAudioUnitReverb.alloc().init()\n",
    "\n",
    "avaudio_units = [delay, reverb]"
   ]
  },
  {
   "cell_type": "code",
   "execution_count": null,
   "metadata": {},
   "outputs": [],
   "source": [
    "print(delay.delayTime)\n",
    "\n",
    "print(reverb.wetDryMix)"
   ]
  },
  {
   "cell_type": "code",
   "execution_count": null,
   "metadata": {
    "scrolled": true
   },
   "outputs": [],
   "source": [
    "# 処理音声収録必要なクラスを読み込む\n",
    "AVAudio_Capture_and_Rendering_and_Effects_ = avf.AVAudio_Capture_and_Rendering_and_Effects(\n",
    "    None,         # 刻々取得する音声データ用のバッファーサイズ\n",
    "    None,         # 取得した音声データを描く\n",
    "    None,         # 音声波形を生成する\n",
    "    None,         # ステレオなら2、モノラルなら1(2以外)\n",
    "    avaudio_units # 効果群をわたす\n",
    ")\n",
    "\n",
    "# 処理を始める\n",
    "AVAudio_Capture_and_Rendering_and_Effects_.start()\n",
    "\n",
    "# 一定時間、動作させる\n",
    "time.sleep(10)\n",
    "\n",
    "# 処理終了\n",
    "AVAudio_Capture_and_Rendering_and_Effects_.stop()"
   ]
  }
 ],
 "metadata": {
  "celltoolbar": "Tags",
  "kernelspec": {
   "display_name": "Python 3 (ipykernel)",
   "language": "python",
   "name": "python3"
  },
  "language_info": {
   "codemirror_mode": {
    "name": "ipython",
    "version": 3
   },
   "file_extension": ".py",
   "mimetype": "text/x-python",
   "name": "python",
   "nbconvert_exporter": "python",
   "pygments_lexer": "ipython3",
   "version": "3.8.16"
  },
  "toc": {
   "base_numbering": 1,
   "nav_menu": {},
   "number_sections": true,
   "sideBar": true,
   "skip_h1_title": false,
   "title_cell": "Table of Contents",
   "title_sidebar": "Contents",
   "toc_cell": false,
   "toc_position": {},
   "toc_section_display": true,
   "toc_window_display": false
  }
 },
 "nbformat": 4,
 "nbformat_minor": 2
}
