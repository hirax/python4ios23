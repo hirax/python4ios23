{
 "cells": [
  {
   "cell_type": "markdown",
   "id": "ca0dfb26",
   "metadata": {},
   "source": [
    "システムサウンドを鳴らす"
   ]
  },
  {
   "cell_type": "code",
   "execution_count": null,
   "id": "3218d833",
   "metadata": {},
   "outputs": [],
   "source": [
    "from audiotoolbox.audio_services_play_system_sound import *\n",
    "\n",
    "audio_services_play_system_sound(\"new-mail\")"
   ]
  }
 ],
 "metadata": {
  "kernelspec": {
   "display_name": "Python 3 (ipykernel)",
   "language": "python",
   "name": "python3"
  },
  "language_info": {
   "codemirror_mode": {
    "name": "ipython",
    "version": 3
   },
   "file_extension": ".py",
   "mimetype": "text/x-python",
   "name": "python",
   "nbconvert_exporter": "python",
   "pygments_lexer": "ipython3",
   "version": "3.8.16"
  },
  "toc": {
   "base_numbering": 1,
   "nav_menu": {},
   "number_sections": false,
   "sideBar": false,
   "skip_h1_title": false,
   "title_cell": "Table of Contents",
   "title_sidebar": "Contents",
   "toc_cell": false,
   "toc_position": {
    "height": "1222.3529052734375px",
    "left": "1090px",
    "top": "180px",
    "width": "280.4595642089844px"
   },
   "toc_section_display": true,
   "toc_window_display": true
  }
 },
 "nbformat": 4,
 "nbformat_minor": 5
}
