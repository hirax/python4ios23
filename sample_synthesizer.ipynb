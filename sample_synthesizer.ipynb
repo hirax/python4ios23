{
 "cells": [
  {
   "cell_type": "code",
   "execution_count": 13,
   "metadata": {},
   "outputs": [],
   "source": [
    "import numpy as np\n",
    "\n",
    "notes = 'C,C#,D,D#,E,F,F#,G,G#,A,A#,B'.split(',')\n",
    "freqs = 440. * 2**(np.arange(3, 3 + len(notes)) / 12.)\n",
    "notes = list(zip(notes, freqs))"
   ]
  },
  {
   "cell_type": "code",
   "execution_count": 14,
   "metadata": {},
   "outputs": [],
   "source": [
    "from scipy.io import wavfile\n",
    "\n",
    "sampleRate = 44100\n",
    "duration = 10\n",
    "\n",
    "for note, f in notes:\n",
    "    t = np.linspace(0, duration, sampleRate * duration)\n",
    "    y = np.sin(f * 2 * np.pi * t)\n",
    "    wavfile.write(note+'.wav', sampleRate, y)"
   ]
  },
  {
   "cell_type": "code",
   "execution_count": 26,
   "metadata": {},
   "outputs": [],
   "source": [
    "from ipywidgets import widgets\n",
    "from functools import partial\n",
    "\n",
    "from avfaudio.audio_player import *\n",
    "from os.path import abspath\n",
    "import time\n",
    "\n",
    "layout = widgets.Layout(\n",
    "    width='40px', height='70px',\n",
    "    border='1px solid black')\n",
    "\n",
    "buttons = []\n",
    "for note, f in notes:\n",
    "    button = widgets.Button(\n",
    "        description=note,\n",
    "        layout=layout)\n",
    "    if '#' in note:\n",
    "        button.style.button_color = 'gray'\n",
    "\n",
    "    def on_button_clicked(note, b):\n",
    "        url = NSURL.fileURLWithPath(abspath(note+'.wav'))\n",
    "        player = av_audio_player_init_with_contents_of_url(url)\n",
    "        player.prepareToPlay()\n",
    "        player.play(); time.sleep(0.2); player.stop()\n",
    "        \n",
    "    button.on_click(partial(on_button_clicked, note))\n",
    "    buttons.append(button)"
   ]
  },
  {
   "cell_type": "code",
   "execution_count": 27,
   "metadata": {},
   "outputs": [
    {
     "data": {
      "application/vnd.jupyter.widget-view+json": {
       "model_id": "69b9769aa3f34001832e8336e76c6735",
       "version_major": 2,
       "version_minor": 0
      },
      "text/plain": [
       "Box(children=(Button(description='C', layout=Layout(border_bottom='1px solid black', border_left='1px solid bl…"
      ]
     },
     "execution_count": 27,
     "metadata": {},
     "output_type": "execute_result"
    }
   ],
   "source": [
    "#  鍵盤を水平に並べる\n",
    "widgets.Box(children=buttons)"
   ]
  },
  {
   "cell_type": "code",
   "execution_count": null,
   "metadata": {},
   "outputs": [],
   "source": []
  }
 ],
 "metadata": {
  "kernelspec": {
   "display_name": "Python 3 (ipykernel)",
   "language": "python",
   "name": "python3"
  },
  "language_info": {
   "codemirror_mode": {
    "name": "ipython",
    "version": 3
   },
   "file_extension": ".py",
   "mimetype": "text/x-python",
   "name": "python",
   "nbconvert_exporter": "python",
   "pygments_lexer": "ipython3",
   "version": "3.11.0"
  },
  "toc": {
   "base_numbering": 1,
   "nav_menu": {},
   "number_sections": true,
   "sideBar": true,
   "skip_h1_title": false,
   "title_cell": "Table of Contents",
   "title_sidebar": "Contents",
   "toc_cell": false,
   "toc_position": {},
   "toc_section_display": true,
   "toc_window_display": true
  }
 },
 "nbformat": 4,
 "nbformat_minor": 2
}
