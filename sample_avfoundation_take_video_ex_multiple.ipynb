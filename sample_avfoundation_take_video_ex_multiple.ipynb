{
 "cells": [
  {
   "cell_type": "markdown",
   "metadata": {},
   "source": [
    "複数カメラを使って、同時・同期撮影をする\n"
   ]
  },
  {
   "cell_type": "code",
   "execution_count": 1,
   "metadata": {},
   "outputs": [],
   "source": [
    "from uikit.ui_uiview import *\n",
    "\n",
    "# 画面サイズを取得する\n",
    "size = get_screen_bounds().size\n",
    "\n",
    "# プレビュー表示用のUIViewを作成する\n",
    "ui_view = create_uiview(\n",
    "    rect=CGRect( CGPoint(size.width/4/2, size.height/4/2),\n",
    "                 CGSize(3*size.width/4,  3*size.height/4)),\n",
    "    name='sample', # UIWindowの名前、ただし特に使わない\n",
    "    color=UIColor.color(red=0,green=0,blue=0,alpha=1) )"
   ]
  },
  {
   "cell_type": "code",
   "execution_count": 2,
   "metadata": {},
   "outputs": [],
   "source": [
    "# ビデオ画像のリアルタイム取得を行うためのモジュールも読み込んでおく\n",
    "from avfoundation.video_capture_ex_multi import *\n",
    "\n",
    "# 撮影に使うカメラ（3台まで）\n",
    "cameras = [\n",
    "{'type':AVCaptureDeviceTypeBuiltInWideAngleCamera,\n",
    " 'pos':AVCaptureDevicePositionBack,\n",
    " 'pixFormType':CV32BGRA,\n",
    " 'format':\"1280x 720\"},\n",
    "{'type':AVCaptureDeviceTypeBuiltInUltraWideCamera,\n",
    " 'pos':AVCaptureDevicePositionBack,\n",
    " 'pixFormType':CV32BGRA,\n",
    " 'format':\"1280x 720\"},\n",
    "{'type':AVCaptureDeviceTypeBuiltInTelephotoCamera,\n",
    " 'pos':AVCaptureDevicePositionBack,\n",
    " 'pixFormType':CV32BGRA,\n",
    " 'format':\"1280x 720\"} ]"
   ]
  },
  {
   "cell_type": "code",
   "execution_count": 3,
   "metadata": {},
   "outputs": [],
   "source": [
    "# 各カメラの撮影画像を入れるリストを用意\n",
    "video = {AVCaptureDeviceTypeBuiltInWideAngleCamera:[],\n",
    "         AVCaptureDeviceTypeBuiltInUltraWideCamera:[],\n",
    "         AVCaptureDeviceTypeBuiltInTelephotoCamera:[] }\n",
    "\n",
    "import copy\n",
    "\n",
    "# numpyアレイとしてカメラ画像が渡されると\n",
    "# リストに追加する\n",
    "def process_image( image ): \n",
    "    video[ image['type'] ].append(copy.copy(image['video']))\n"
   ]
  },
  {
   "cell_type": "code",
   "execution_count": 4,
   "metadata": {},
   "outputs": [
    {
     "name": "stdout",
     "output_type": "stream",
     "text": [
      "MultiCam is Supported.\n"
     ]
    }
   ],
   "source": [
    "AVCaptureVideoCaptureEx_ = AVCaptureVideoCaptureExMulti(\n",
    "    # 撮影に使うカメラ（3台まで）\n",
    "    cameras,\n",
    "    # 取得画像を使った処理を行うユーザ関数\n",
    "    process_image,\n",
    "    # UIViewへの表示画像を生成するユーザ関数\n",
    "    None,\n",
    "    # 取得画像を表示するUIView\n",
    "    ui_view)"
   ]
  },
  {
   "cell_type": "code",
   "execution_count": 5,
   "metadata": {},
   "outputs": [
    {
     "name": "stdout",
     "output_type": "stream",
     "text": [
      "<objc_util.objc_util.ObjCInstanceMethodProxy object at 0x1321abc50>\n",
      "<objc_util.objc_util.ObjCInstanceMethodProxy object at 0x13334e350>\n",
      "<objc_util.objc_util.ObjCInstanceMethodProxy object at 0x12fa13190>\n"
     ]
    }
   ],
   "source": [
    "import time\n",
    "\n",
    "# 撮影開始, 撮影インターバルを秒で指定\n",
    "AVCaptureVideoCaptureEx_.video_shooting_start(0.1)\n",
    "\n",
    "# 5 秒間にわたり撮影を行う\n",
    "time.sleep(5) \n",
    "\n",
    "# 撮影を終了する\n",
    "AVCaptureVideoCaptureEx_.video_shooting_close(ui_view)"
   ]
  },
  {
   "cell_type": "code",
   "execution_count": 6,
   "metadata": {},
   "outputs": [
    {
     "name": "stdout",
     "output_type": "stream",
     "text": [
      "5 images are captured.\n",
      "5 images are captured.\n",
      "6 images are captured.\n"
     ]
    }
   ],
   "source": [
    "# 取得した画像の枚数\n",
    "l = len(video[AVCaptureDeviceTypeBuiltInWideAngleCamera])\n",
    "print(\"{:d} images are captured.\".format(l))\n",
    "\n",
    "# 取得した画像の枚数\n",
    "l = len(video[AVCaptureDeviceTypeBuiltInUltraWideCamera])\n",
    "print(\"{:d} images are captured.\".format(l))\n",
    "\n",
    "# 取得した画像の枚数\n",
    "l = len(video[AVCaptureDeviceTypeBuiltInTelephotoCamera])\n",
    "print(\"{:d} images are captured.\".format(l))"
   ]
  },
  {
   "cell_type": "code",
   "execution_count": 8,
   "metadata": {},
   "outputs": [
    {
     "name": "stdout",
     "output_type": "stream",
     "text": [
      "image: height:720 pixels x width:5120 pixels\n",
      "image: height:720 pixels x width:5120 pixels\n",
      "image: height:720 pixels x width:5120 pixels\n"
     ]
    }
   ],
   "source": [
    "# 広角カメラを使って撮影した画像の縦・横サイズ\n",
    "video_h, video_w = video[AVCaptureDeviceTypeBuiltInWideAngleCamera][0].shape\n",
    "print(\"image: height:{:d} pixels x width:{:d} pixels\".format(\n",
    "    video_h, video_w))\n",
    "\n",
    "# 超広角カメラを使って撮影した画像の縦・横サイズ\n",
    "video_h, video_w =  video[AVCaptureDeviceTypeBuiltInUltraWideCamera][0].shape\n",
    "print(\"image: height:{:d} pixels x width:{:d} pixels\".format(\n",
    "    video_h, video_w))\n",
    "\n",
    "# 望遠カメラを使って撮影した画像の縦・横サイズ\n",
    "video_h, video_w = video[AVCaptureDeviceTypeBuiltInTelephotoCamera][0].shape\n",
    "print(\"image: height:{:d} pixels x width:{:d} pixels\".format(\n",
    "    video_h, video_w))"
   ]
  },
  {
   "cell_type": "code",
   "execution_count": null,
   "metadata": {},
   "outputs": [],
   "source": [
    "# matplotlibを使って画像を表示する\n",
    "from matplotlib import pylab as plt\n",
    "import cv2\n",
    "\n",
    "plt.figure(figsize=[6,6])\n",
    "rgba_image = cv2.cvtColor( \n",
    "    video[AVCaptureDeviceTypeBuiltInWideAngleCamera][0].reshape(\n",
    "          video_h, int(video_w/4), 4), \n",
    "    cv2.COLOR_RGBA2BGRA)\n",
    "plt.imshow(rgba_image)"
   ]
  },
  {
   "cell_type": "code",
   "execution_count": null,
   "metadata": {},
   "outputs": [],
   "source": [
    "plt.figure(figsize=[6,6])\n",
    "rgba_image = cv2.cvtColor( \n",
    "    video[AVCaptureDeviceTypeBuiltInUltraWideCamera][0].reshape(\n",
    "        video_h, int(video_w/4), 4), \n",
    "    cv2.COLOR_RGBA2BGRA)\n",
    "plt.imshow(rgba_image)"
   ]
  },
  {
   "cell_type": "code",
   "execution_count": null,
   "metadata": {},
   "outputs": [],
   "source": [
    "plt.figure(figsize=[6,6])\n",
    "rgba_image = cv2.cvtColor( \n",
    "video[AVCaptureDeviceTypeBuiltInTelephotoCamera][0].reshape(\n",
    "video_h, int(video_w/4), 4),cv2.COLOR_RGBA2BGRA)\n",
    "plt.imshow(rgba_image)"
   ]
  },
  {
   "cell_type": "code",
   "execution_count": null,
   "metadata": {},
   "outputs": [],
   "source": []
  }
 ],
 "metadata": {
  "celltoolbar": "Tags",
  "kernelspec": {
   "display_name": "Python 3 (ipykernel)",
   "language": "python",
   "name": "python3"
  },
  "language_info": {
   "codemirror_mode": {
    "name": "ipython",
    "version": 3
   },
   "file_extension": ".py",
   "mimetype": "text/x-python",
   "name": "python",
   "nbconvert_exporter": "python",
   "pygments_lexer": "ipython3",
   "version": "3.8.16"
  },
  "toc": {
   "base_numbering": 1,
   "nav_menu": {},
   "number_sections": true,
   "sideBar": true,
   "skip_h1_title": false,
   "title_cell": "Table of Contents",
   "title_sidebar": "Contents",
   "toc_cell": false,
   "toc_position": {},
   "toc_section_display": true,
   "toc_window_display": false
  }
 },
 "nbformat": 4,
 "nbformat_minor": 2
}
