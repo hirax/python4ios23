{
 "cells": [
  {
   "cell_type": "markdown",
   "metadata": {},
   "source": [
    "気圧低下を、音声や触感フィードバックで知らせるコード例"
   ]
  },
  {
   "cell_type": "code",
   "execution_count": null,
   "metadata": {},
   "outputs": [],
   "source": [
    "# 高度（気圧）センサ機能を使うためのモジュールを読み込む\n",
    "from coremotion.altimeter import *\n",
    "# 触覚フィードバック生成のためのモジュールを読み込む\n",
    "from uikit.ui_impact_feedback_generator import *\n",
    "# 音声を話すためのモジュールを読み込む\n",
    "from avfoundation.av_speech_synthesizer import *\n",
    "\n",
    "import time\n",
    "\n",
    "# 高度（気圧）センサ値の取得開始\n",
    "my_altimeter = Altimeter()\n",
    "my_altimeter.start_relative_altitude_updates()\n",
    "\n",
    "# 気圧低下を警告するループ\n",
    "for _ in range(2):\n",
    "    time.sleep(10)\n",
    "    pressure = my_altimeter.altitude_data[-1]['pressure']\n",
    "    #print(pressure)\n",
    "    if(pressure<100.8):\n",
    "        # 触覚フィードバックで知らせる\n",
    "        initWithStyle(style = 0)\n",
    "        impactOccurred()\n",
    "        # 音声で警告\n",
    "        speech(str='気圧が{:.2f}キロパスカルです'.format(pressure),\n",
    "            voice='com.apple.ttsbundle.siri_Hattori_ja-JP_compact')\n",
    "# 気圧センサの読み込みを終了\n",
    "my_altimeter.stop_relative_altitude_updates()"
   ]
  }
 ],
 "metadata": {
  "celltoolbar": "Tags",
  "kernelspec": {
   "display_name": "Python 3 (ipykernel)",
   "language": "python",
   "name": "python3"
  },
  "language_info": {
   "codemirror_mode": {
    "name": "ipython",
    "version": 3
   },
   "file_extension": ".py",
   "mimetype": "text/x-python",
   "name": "python",
   "nbconvert_exporter": "python",
   "pygments_lexer": "ipython3",
   "version": "3.8.16"
  },
  "toc": {
   "base_numbering": 1,
   "nav_menu": {},
   "number_sections": true,
   "sideBar": true,
   "skip_h1_title": false,
   "title_cell": "Table of Contents",
   "title_sidebar": "Contents",
   "toc_cell": false,
   "toc_position": {},
   "toc_section_display": true,
   "toc_window_display": false
  }
 },
 "nbformat": 4,
 "nbformat_minor": 2
}
