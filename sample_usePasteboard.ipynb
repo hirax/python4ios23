{
 "cells": [
  {
   "cell_type": "code",
   "execution_count": 2,
   "metadata": {},
   "outputs": [
    {
     "name": "stdout",
     "output_type": "stream",
     "text": [
      "UIPasteboard\n"
     ]
    }
   ],
   "source": [
    "from rubicon_objc import ObjCClass\n",
    "\n",
    "# Objective-Cクラスリファレンス\n",
    "UIPasteboard = ObjCClass('UIPasteboard')\n",
    "# クラスプロパティを介して取得*\n",
    "pasteboard = UIPasteboard.generalPasteboard\n",
    "# メソッド名の:は_に変える\n",
    "pasteboard.setString_('Hello Objective-C')\n",
    "\n",
    "# ペーストボードの内容をprintする\n",
    "print( pasteboard.string )"
   ]
  },
  {
   "cell_type": "code",
   "execution_count": null,
   "metadata": {},
   "outputs": [],
   "source": []
  }
 ],
 "metadata": {
  "kernelspec": {
   "display_name": "Python 3 (ipykernel)",
   "language": "python",
   "name": "python3"
  },
  "language_info": {
   "codemirror_mode": {
    "name": "ipython",
    "version": 3
   },
   "file_extension": ".py",
   "mimetype": "text/x-python",
   "name": "python",
   "nbconvert_exporter": "python",
   "pygments_lexer": "ipython3",
   "version": "3.8.16"
  },
  "toc": {
   "base_numbering": 1,
   "nav_menu": {},
   "number_sections": false,
   "sideBar": false,
   "skip_h1_title": false,
   "title_cell": "Table of Contents",
   "title_sidebar": "Contents",
   "toc_cell": false,
   "toc_position": {
    "height": "calc(100% - 180px)",
    "left": "10px",
    "top": "150px",
    "width": "229.390625px"
   },
   "toc_section_display": false,
   "toc_window_display": false
  }
 },
 "nbformat": 4,
 "nbformat_minor": 2
}
