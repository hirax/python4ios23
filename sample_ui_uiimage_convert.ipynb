{
 "cells": [
  {
   "cell_type": "code",
   "execution_count": null,
   "id": "4a4b7b56",
   "metadata": {},
   "outputs": [],
   "source": [
    "import numpy as np"
   ]
  },
  {
   "cell_type": "code",
   "execution_count": null,
   "id": "dde8a74b",
   "metadata": {},
   "outputs": [],
   "source": [
    "rgba_planer_image = np.stack([\n",
    "    bgra_interleaved_image[:,:,2:4], # Rチャンネル\n",
    "    bgra_interleaved_image[:,:,1:4], # Gチャンネル\n",
    "    bgra_interleaved_image[:,:,0:4], # Bチャンネル\n",
    "    bgra_interleaved_image[:,:,3:4]  # Aチャンネル"
   ]
  },
  {
   "cell_type": "code",
   "execution_count": null,
   "id": "a3f63ebd",
   "metadata": {},
   "outputs": [],
   "source": [
    "bgra_interleaved_image = np.dstack([\n",
    "    rgba_planer_image[2:,:,:],  # Bチャンネル\n",
    "    rgba_planer_image[1:,:,:],  # Gチャンネル\n",
    "    rgba_planer_image[0:,:,:],  # Rチャンネル\n",
    "    rgba_planer_image[3:,:,:]   # Aチャンネル\n",
    "])"
   ]
  }
 ],
 "metadata": {
  "kernelspec": {
   "display_name": "Python 3 (ipykernel)",
   "language": "python",
   "name": "python3"
  },
  "language_info": {
   "codemirror_mode": {
    "name": "ipython",
    "version": 3
   },
   "file_extension": ".py",
   "mimetype": "text/x-python",
   "name": "python",
   "nbconvert_exporter": "python",
   "pygments_lexer": "ipython3",
   "version": "3.8.16"
  },
  "toc": {
   "base_numbering": 1,
   "nav_menu": {},
   "number_sections": false,
   "sideBar": false,
   "skip_h1_title": false,
   "title_cell": "Table of Contents",
   "title_sidebar": "Contents",
   "toc_cell": false,
   "toc_position": {
    "height": "1069px",
    "left": "25px",
    "top": "30px",
    "width": "238.390625px"
   },
   "toc_section_display": false,
   "toc_window_display": false
  }
 },
 "nbformat": 4,
 "nbformat_minor": 5
}
