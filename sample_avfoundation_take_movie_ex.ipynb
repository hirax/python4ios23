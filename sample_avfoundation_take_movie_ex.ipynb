{
 "cells": [
  {
   "cell_type": "markdown",
   "metadata": {},
   "source": [
    "ビデオ画像のリアルタイム取得を行う"
   ]
  },
  {
   "cell_type": "code",
   "execution_count": 1,
   "metadata": {},
   "outputs": [],
   "source": [
    "from uikit.ui_uiview import *\n",
    "# ビデオ画像のリアルタイム取得を行うためのモジュール\n",
    "from avfoundation.video_data_capture_ex import *\n",
    "import time\n",
    "\n",
    "# 画面サイズを取得する\n",
    "size = get_screen_bounds().size\n",
    "# プレビュー表示用のUIViewを作成する\n",
    "ui_view = create_uiview(\n",
    "    rect=CGRect( CGPoint(size.width/4/2, size.height/4/2),\n",
    "                 CGSize(3*size.width/4,  3*size.height/4) ),\n",
    "    name='sample',\n",
    "    color=UIColor.color(red=0,green=0,blue=0,alpha=1) )"
   ]
  },
  {
   "cell_type": "code",
   "execution_count": 2,
   "metadata": {},
   "outputs": [],
   "source": [
    "# カメラ画像を入れておくリストを用意\n",
    "npimages = []\n",
    "\n",
    "# numpyアレイとしてカメラ画像が渡されると\n",
    "# リストに追加する\n",
    "def process_image( npimg ): \n",
    "    npimages.append( npimg )"
   ]
  },
  {
   "cell_type": "code",
   "execution_count": 3,
   "metadata": {},
   "outputs": [
    {
     "name": "stdout",
     "output_type": "stream",
     "text": [
      "videoSettings()\n",
      "{\n",
      "    PixelFormatType = 1111970369;\n",
      "}\n",
      "processed_frames:17\n"
     ]
    }
   ],
   "source": [
    "\n",
    "myAVCaptureVideoData_Capture_Ex = AVCaptureVideoData_Capture_Ex(\n",
    "        ui_view,      # 取得画像を表示するUIView\n",
    "        'AVCaptureDeviceTypeBuiltInWideAngleCamera', # 取得デバイス\n",
    "        AVCaptureDevicePositionBack,                 # カメラ位置\n",
    "        'AVCaptureSessionPreset640x480',             # 取得画像サイズ\n",
    "        CV32BGRA,                                    # 画像色フォーマット\n",
    "        process_image                     # 取得画像へ処理を行うユーザ関数\n",
    "        )\n",
    "# 撮影開始\n",
    "myAVCaptureVideoData_Capture_Ex.video_shooting_start(0.1) # 撮影インターバルを秒で指定\n",
    "time.sleep(2) # 2秒間にわたり撮影を行う\n",
    "# 撮影を終了する\n",
    "myAVCaptureVideoData_Capture_Ex.video_shooting_close(ui_view)"
   ]
  },
  {
   "cell_type": "code",
   "execution_count": 5,
   "metadata": {},
   "outputs": [
    {
     "name": "stdout",
     "output_type": "stream",
     "text": [
      "17 images are captured.\n",
      "height:480 pixels x width:2560 pixels\n"
     ]
    }
   ],
   "source": [
    "l = len(npimages)         # 取得した画像の枚数\n",
    "h, w = npimages[0].shape  # 取得した画像の縦・横サイズ\n",
    "print(\"{:d} images are captured.\".format(l))\n",
    "print(\"height:{:d} pixels x width:{:d} pixels\".format(h, w))"
   ]
  },
  {
   "cell_type": "code",
   "execution_count": null,
   "metadata": {},
   "outputs": [],
   "source": [
    "# matplotlibを使って画像を表示する\n",
    "from matplotlib import pylab as plt\n",
    "import cv2\n",
    "\n",
    "rgba_image = cv2.cvtColor( npimages[-1].reshape(h,int(w/4),4), cv2.COLOR_RGBA2BGRA)\n",
    "\n",
    "# 画像を表示する\n",
    "plt.figure(figsize=[10,10])\n",
    "plt.imshow(rgba_image)"
   ]
  },
  {
   "cell_type": "code",
   "execution_count": null,
   "metadata": {},
   "outputs": [],
   "source": [
    "# npimages.clear() # 必要に応じて消去\n",
    "\n",
    "video_shooting_setup(ui_view,\n",
    "    'AVCaptureDeviceTypeBuiltInWideAngleCamera', # 利用カメラ\n",
    "    'AVCaptureSessionPreset640x480', # サイズフォーマット\n",
    "    CV32BGRA,                        # 色フォーマット(指定しない:None)\n",
    "    process_image)                   # 撮影画像を処理するユーザ関数\n",
    "\n",
    "# 撮影開始\n",
    "video_shooting_start(0.1) # 撮影インターバルを秒で指定\n",
    "time.sleep(2) # 2秒間にわたり撮影を行う\n",
    "# 撮影を終了する\n",
    "video_shooting_close(ui_view)"
   ]
  },
  {
   "cell_type": "code",
   "execution_count": null,
   "metadata": {},
   "outputs": [],
   "source": [
    "l = len(npimages)         # 取得した画像の枚数\n",
    "h, w = npimages[0].shape  # 取得した画像の縦・横サイズ\n",
    "print(\"{:d} images are captured.\".format(l))\n",
    "print(\"height:{:d} pixels x width:{:d} pixels\".format(h, w))"
   ]
  },
  {
   "cell_type": "code",
   "execution_count": null,
   "metadata": {},
   "outputs": [],
   "source": [
    "# matplotlibを使って画像を表示する\n",
    "from matplotlib import pylab as plt\n",
    "import cv2\n",
    "\n",
    "rgba_image = cv2.cvtColor( npimages[-1].reshape(h,w,4), cv2.COLOR_RGBA2BGRA)\n",
    "\n",
    "# 画像を表示する\n",
    "plt.figure(figsize=[10,10])\n",
    "plt.imshow(rgba_image)"
   ]
  }
 ],
 "metadata": {
  "kernelspec": {
   "display_name": "Python 3 (ipykernel)",
   "language": "python",
   "name": "python3"
  },
  "language_info": {
   "codemirror_mode": {
    "name": "ipython",
    "version": 3
   },
   "file_extension": ".py",
   "mimetype": "text/x-python",
   "name": "python",
   "nbconvert_exporter": "python",
   "pygments_lexer": "ipython3",
   "version": "3.8.16"
  },
  "toc": {
   "base_numbering": 1,
   "nav_menu": {},
   "number_sections": true,
   "sideBar": true,
   "skip_h1_title": false,
   "title_cell": "Table of Contents",
   "title_sidebar": "Contents",
   "toc_cell": false,
   "toc_position": {},
   "toc_section_display": true,
   "toc_window_display": false
  }
 },
 "nbformat": 4,
 "nbformat_minor": 2
}
