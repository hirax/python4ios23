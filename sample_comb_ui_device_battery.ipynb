{
 "cells": [
  {
   "cell_type": "markdown",
   "metadata": {},
   "source": [
    "バッテリー残量が少なくなるとアラームを鳴らす"
   ]
  },
  {
   "cell_type": "code",
   "execution_count": null,
   "metadata": {},
   "outputs": [],
   "source": [
    "import warnings\n",
    "warnings.filterwarnings('ignore')"
   ]
  },
  {
   "cell_type": "code",
   "execution_count": null,
   "metadata": {},
   "outputs": [],
   "source": [
    "# バッテリー残量などを知るころができるモジュールを読み込む\n",
    "from uikit.ui_device import *\n",
    "\n",
    "# バッテリー残量を知ることができる設定にする\n",
    "UIDevice_currentDevice_.batteryMonitoringEnabled = True\n",
    "\n",
    "# バッテリー残量を出力する\n",
    "print(UIDevice_currentDevice_.batteryLevel)\n",
    "\n",
    "# 充電状態も確認しておく\n",
    "# 0: 'unknown', 1: 'unplugged', 2: 'charging', 3: 'full'\n",
    "print(UIDevice_currentDevice_.batteryState)\n",
    "\n",
    "# バッテリー残量が少なくなっていたら、システムサウンドを鳴らす\n",
    "if UIDevice_currentDevice_.batteryLevel < 0.70:\n",
    "    from audiotoolbox.audio_services_play_system_sound import *\n",
    "    audio_services_play_system_sound(\"Choo_Choo\")"
   ]
  }
 ],
 "metadata": {
  "celltoolbar": "Tags",
  "kernelspec": {
   "display_name": "Python 3 (ipykernel)",
   "language": "python",
   "name": "python3"
  },
  "language_info": {
   "codemirror_mode": {
    "name": "ipython",
    "version": 3
   },
   "file_extension": ".py",
   "mimetype": "text/x-python",
   "name": "python",
   "nbconvert_exporter": "python",
   "pygments_lexer": "ipython3",
   "version": "3.8.16"
  },
  "toc": {
   "base_numbering": 1,
   "nav_menu": {},
   "number_sections": true,
   "sideBar": true,
   "skip_h1_title": false,
   "title_cell": "Table of Contents",
   "title_sidebar": "Contents",
   "toc_cell": false,
   "toc_position": {},
   "toc_section_display": true,
   "toc_window_display": false
  }
 },
 "nbformat": 4,
 "nbformat_minor": 2
}
