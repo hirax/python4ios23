{
 "cells": [
  {
   "cell_type": "markdown",
   "metadata": {},
   "source": [
    "# 3次元世界の中でデバイス位置を反映したAR可視化をする "
   ]
  },
  {
   "cell_type": "code",
   "execution_count": null,
   "metadata": {},
   "outputs": [],
   "source": [
    "# AR処理を行うMyARViewクラスに必要なモジュールを読み込む\n",
    "import arkit.arkit_sensor_ar_ex as ar\n",
    "import time\n",
    "\n",
    "# MyARViewクラスをインスタンス化して初期化する\n",
    "arview = ar.MyARView()\n",
    "arview.initScene()\n",
    "\n",
    "# 月面着陸船の3Dモデルを読み込み、大きさを1/100のスケールにする\n",
    "node = arview.loadSceneAndAdd('scn/LunarLander.scn')\n",
    "node.setScale((0.01, 0.01, 0.01))"
   ]
  },
  {
   "cell_type": "code",
   "execution_count": null,
   "metadata": {},
   "outputs": [],
   "source": [
    "# ディスプレイ画面の大きさを調べて\n",
    "scr = ar.get_screen_size()\n",
    "# ディスプレイ画面にAR表示を行う\n",
    "arview.initialize([0,0,scr.width,scr.height],\n",
    "                  False) # AR空間に座標軸や特徴点を表示するか\n",
    "\n",
    "# 月面着陸船の座標(X,Z,Y)を初期化する\n",
    " # ARkitのZ軸は奥行きで、高さ方向はY軸\n",
    "pos = [0.0, 0.0, 0.0]\n",
    "for i in range(300): # 0.1秒ごとの処理を300回＝30秒間行う\n",
    "    # 上方向に移動させていく (0.1秒あたり0.5cm=秒速5cm)\n",
    "    pos[2] += 0.005  # 座標の単位はm\n",
    "    X, Y, Z = pos\n",
    "    # 月面着陸船を移動させる\n",
    "    node.setPosition((X, Z, Y))\n",
    "    # 0.1秒待つ\n",
    "    time.sleep(0.1)\n",
    "\n",
    "# 動作を終了させる\n",
    "arview.close_view()  "
   ]
  },
  {
   "cell_type": "code",
   "execution_count": null,
   "metadata": {},
   "outputs": [],
   "source": []
  }
 ],
 "metadata": {
  "celltoolbar": "Tags",
  "kernelspec": {
   "display_name": "Python 3 (ipykernel)",
   "language": "python",
   "name": "python3"
  },
  "language_info": {
   "codemirror_mode": {
    "name": "ipython",
    "version": 3
   },
   "file_extension": ".py",
   "mimetype": "text/x-python",
   "name": "python",
   "nbconvert_exporter": "python",
   "pygments_lexer": "ipython3",
   "version": "3.8.16"
  },
  "toc": {
   "base_numbering": 1,
   "nav_menu": {},
   "number_sections": true,
   "sideBar": true,
   "skip_h1_title": false,
   "title_cell": "Table of Contents",
   "title_sidebar": "Contents",
   "toc_cell": false,
   "toc_position": {},
   "toc_section_display": true,
   "toc_window_display": false
  }
 },
 "nbformat": 4,
 "nbformat_minor": 2
}
