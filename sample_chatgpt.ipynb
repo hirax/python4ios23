{
 "cells": [
  {
   "cell_type": "code",
   "execution_count": null,
   "id": "5a5d3d6f",
   "metadata": {},
   "outputs": [],
   "source": [
    "import speech.speech_recognizer as sr\n",
    "import time\n",
    "\n",
    "myRecognizer = sr.Recognizer(en-US,True)\n",
    "myRecognizer.prepare()\n",
    "myRecognizer.start()\n",
    "time.sleep(10)\n",
    "myRecognizer.stop()"
   ]
  },
  {
   "cell_type": "code",
   "execution_count": null,
   "id": "a6f7b91d",
   "metadata": {},
   "outputs": [],
   "source": [
    "import openai\n",
    "\n",
    "openai.api_key = '******' # シークレットキーを設定\n",
    "\n",
    "response = openai.ChatCompletion.create(\n",
    "    model=\"gpt-3.5-turbo\", # モデル\n",
    "    max_tokens=100,        # トークン数上限\n",
    "    temperature = 0.5,     # ランダム性を設定\n",
    "    messages=[{\"role\": \"user\", \"content\": _question}])"
   ]
  },
  {
   "cell_type": "code",
   "execution_count": null,
   "id": "bc2e50d2",
   "metadata": {},
   "outputs": [],
   "source": [
    "print(response.choices[0][\"message\"][\"content\"].strip())"
   ]
  },
  {
   "cell_type": "code",
   "execution_count": null,
   "id": "38fb4d41",
   "metadata": {},
   "outputs": [],
   "source": []
  }
 ],
 "metadata": {
  "celltoolbar": "Tags",
  "kernelspec": {
   "display_name": "Python 3 (ipykernel)",
   "language": "python",
   "name": "python3"
  },
  "language_info": {
   "codemirror_mode": {
    "name": "ipython",
    "version": 3
   },
   "file_extension": ".py",
   "mimetype": "text/x-python",
   "name": "python",
   "nbconvert_exporter": "python",
   "pygments_lexer": "ipython3",
   "version": "3.8.16"
  },
  "toc": {
   "base_numbering": 1,
   "nav_menu": {},
   "number_sections": false,
   "sideBar": true,
   "skip_h1_title": false,
   "title_cell": "Table of Contents",
   "title_sidebar": "Contents",
   "toc_cell": false,
   "toc_position": {
    "height": "calc(100% - 180px)",
    "left": "10px",
    "top": "150px",
    "width": "270.3492431640625px"
   },
   "toc_section_display": true,
   "toc_window_display": true
  }
 },
 "nbformat": 4,
 "nbformat_minor": 5
}
