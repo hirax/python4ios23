{
 "cells": [
  {
   "cell_type": "markdown",
   "metadata": {},
   "source": [
    "カメラ露出や焦点位置などをマニュアル制御で静止画撮影する"
   ]
  },
  {
   "cell_type": "code",
   "execution_count": null,
   "metadata": {},
   "outputs": [],
   "source": [
    "from avfoundation.manual_capture import *\n",
    "\n",
    "uid = 'test'\n",
    "ext = '.DNG'\n",
    "denominator =60  # 1 / denominator (s)\n",
    "imagefileName = uid +'_iso:050_timescale:{}'.format( denominator )+ext"
   ]
  },
  {
   "cell_type": "code",
   "execution_count": 1,
   "metadata": {},
   "outputs": [
    {
     "name": "stdout",
     "output_type": "stream",
     "text": [
      "<ObjCClass: b'AVCaptureDeviceDiscoverySession'>\n",
      "Available camera(s): 1\n"
     ]
    }
   ],
   "source": [
    "manualCapture(\n",
    "    #'AVCaptureDeviceTypeBuiltInUltraWideCamera',\n",
    "    'AVCaptureDeviceTypeBuiltInWideAngleCamera',\n",
    "    AVCaptureVideoOrientationLandscapeRight, # 撮影向き\n",
    "    AVCaptureExposureModeLocked, # 露出設定\n",
    "    1, denominator, # 1/denominator (秒)\n",
    "    50,  # ISO値 (23-736)\n",
    "    AVCaptureFocusModeLocked, # レンズ焦点モード\n",
    "    0.7, # 焦点距離（0.0-1.0）\n",
    "    # 色温度 [temprature(kelvin),tint=white balance(-150.0〜+150.0)]\n",
    "    [6000.0, 0.0 ], \n",
    "    [AVCaptureTorchModeOff, 0.01], # ライト設定\n",
    "    imagefileName, #画像ファイル名\n",
    "    None, # アルバム名（`Pyhonista以外では使わない）\n",
    "    ext,  # 画像保存形式\n",
    "    True # .npy で「も」保存するか\n",
    ")"
   ]
  },
  {
   "cell_type": "code",
   "execution_count": null,
   "metadata": {},
   "outputs": [],
   "source": []
  }
 ],
 "metadata": {
  "kernelspec": {
   "display_name": "Python 3 (ipykernel)",
   "language": "python",
   "name": "python3"
  },
  "language_info": {
   "codemirror_mode": {
    "name": "ipython",
    "version": 3
   },
   "file_extension": ".py",
   "mimetype": "text/x-python",
   "name": "python",
   "nbconvert_exporter": "python",
   "pygments_lexer": "ipython3",
   "version": "3.8.16"
  },
  "toc": {
   "base_numbering": 1,
   "nav_menu": {},
   "number_sections": true,
   "sideBar": true,
   "skip_h1_title": false,
   "title_cell": "Table of Contents",
   "title_sidebar": "Contents",
   "toc_cell": false,
   "toc_position": {},
   "toc_section_display": true,
   "toc_window_display": false
  }
 },
 "nbformat": 4,
 "nbformat_minor": 2
}
