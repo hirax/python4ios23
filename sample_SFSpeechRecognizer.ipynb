{
 "cells": [
  {
   "cell_type": "markdown",
   "id": "685cad85",
   "metadata": {},
   "source": [
    "# iOS の音声認識機能を使う"
   ]
  },
  {
   "cell_type": "code",
   "execution_count": 1,
   "id": "3ddb9dce",
   "metadata": {},
   "outputs": [
    {
     "ename": "SyntaxError",
     "evalue": "invalid syntax (speech_recognizer.py, line 32)",
     "output_type": "error",
     "traceback": [
      "Traceback \u001b[0;36m(most recent call last)\u001b[0m:\n",
      "\u001b[0m  File \u001b[1;32m/private/var/containers/Bundle/Application/146C2CAC-C71F-43AF-8C04-A2BB3FB2A497/Carnets-sci.app/Library/lib/python3.11/site-packages/IPython/core/interactiveshell.py:3417\u001b[0m in \u001b[1;35mrun_code\u001b[0m\n    exec(code_obj, self.user_global_ns, self.user_ns)\u001b[0m\n",
      "\u001b[0;36m  Cell \u001b[0;32mIn [1], line 2\u001b[0;36m\n\u001b[0;31m    import speech.speech_recognizer as sr\u001b[0;36m\n",
      "\u001b[0;36m  File \u001b[0;32m/var/mobile/Containers/Data/Application/8DE727D5-8186-4EE4-82B0-8885F5280A19/Library/lib/python3.11/site-packages/speech/speech_recognizer.py:32\u001b[0;36m\u001b[0m\n\u001b[0;31m    self.speech_recognizer =\u001b[0m\n\u001b[0m                            ^\u001b[0m\n\u001b[0;31mSyntaxError\u001b[0m\u001b[0;31m:\u001b[0m invalid syntax\n"
     ]
    }
   ],
   "source": [
    "# 必要なモジュールを読み込む\n",
    "import speech.speech_recognizer as sr\n",
    "import time\n",
    "\n",
    "# 言語を指定して、音声認識用のクラスをインスタンス化する\n",
    "myRecognizer = sr.Recognizer(\"ja_JP\", # 英語なら\"en-US\"\n",
    "                             True)    # 句読点などを自動で認識するか\n",
    "# 音声認識の準備をする\n",
    "myRecognizer.prepare()"
   ]
  },
  {
   "cell_type": "code",
   "execution_count": 18,
   "id": "d51ba37f",
   "metadata": {},
   "outputs": [
    {
     "name": "stdout",
     "output_type": "stream",
     "text": [
      "Starting speech recognition.\n"
     ]
    }
   ],
   "source": [
    "# 音声認識を10秒間行う\n",
    "myRecognizer.start()\n",
    "time.sleep(10)\n",
    "myRecognizer.stop()\n",
    "\n",
    "# 認識した文章をプリントする\n",
    "print(myRecognizer.result)"
   ]
  }
 ],
 "metadata": {
  "kernelspec": {
   "display_name": "Python 3 (ipykernel)",
   "language": "python",
   "name": "python3"
  },
  "language_info": {
   "codemirror_mode": {
    "name": "ipython",
    "version": 3
   },
   "file_extension": ".py",
   "mimetype": "text/x-python",
   "name": "python",
   "nbconvert_exporter": "python",
   "pygments_lexer": "ipython3",
   "version": "3.11.0"
  },
  "toc": {
   "base_numbering": 1,
   "nav_menu": {},
   "number_sections": false,
   "sideBar": true,
   "skip_h1_title": false,
   "title_cell": "Table of Contents",
   "title_sidebar": "Contents",
   "toc_cell": false,
   "toc_position": {
    "height": "calc(100% - 180px)",
    "left": "10px",
    "top": "150px",
    "width": "252.7021942138672px"
   },
   "toc_section_display": true,
   "toc_window_display": true
  }
 },
 "nbformat": 4,
 "nbformat_minor": 5
}
