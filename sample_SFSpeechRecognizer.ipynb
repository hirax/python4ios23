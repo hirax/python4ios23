{
 "cells": [
  {
   "cell_type": "markdown",
   "id": "685cad85",
   "metadata": {},
   "source": [
    "iOS の音声認識機能を使う"
   ]
  },
  {
   "cell_type": "code",
   "execution_count": null,
   "id": "3ddb9dce",
   "metadata": {},
   "outputs": [],
   "source": [
    "# 必要なモジュールを読み込む\n",
    "import speech.speech_recognizer as sr\n",
    "import time\n",
    "\n",
    "# 言語を指定して、音声認識用のクラスをインスタンス化する\n",
    "myRecognizer = sr.Recognizer(\"ja_JP\", # 英語なら\"en-US\"\n",
    "                             True)    # 句読点などを自動で認識するか\n",
    "# 音声認識の準備をする\n",
    "myRecognizer.prepare()"
   ]
  },
  {
   "cell_type": "code",
   "execution_count": 18,
   "id": "d51ba37f",
   "metadata": {},
   "outputs": [
    {
     "name": "stdout",
     "output_type": "stream",
     "text": [
      "Starting speech recognition.\n"
     ]
    }
   ],
   "source": [
    "# 音声認識を10秒間行う\n",
    "myRecognizer.start()\n",
    "time.sleep(10)\n",
    "myRecognizer.stop()\n",
    "\n",
    "# 認識した文章をプリントする\n",
    "print(myRecognizer.result)"
   ]
  }
 ],
 "metadata": {
  "kernelspec": {
   "display_name": "Python 3 (ipykernel)",
   "language": "python",
   "name": "python3"
  },
  "language_info": {
   "codemirror_mode": {
    "name": "ipython",
    "version": 3
   },
   "file_extension": ".py",
   "mimetype": "text/x-python",
   "name": "python",
   "nbconvert_exporter": "python",
   "pygments_lexer": "ipython3",
   "version": "3.8.16"
  },
  "toc": {
   "base_numbering": 1,
   "nav_menu": {},
   "number_sections": false,
   "sideBar": false,
   "skip_h1_title": false,
   "title_cell": "Table of Contents",
   "title_sidebar": "Contents",
   "toc_cell": false,
   "toc_position": {
    "height": "calc(100% - 180px)",
    "left": "10px",
    "top": "150px",
    "width": "252.6875px"
   },
   "toc_section_display": false,
   "toc_window_display": false
  }
 },
 "nbformat": 4,
 "nbformat_minor": 5
}
