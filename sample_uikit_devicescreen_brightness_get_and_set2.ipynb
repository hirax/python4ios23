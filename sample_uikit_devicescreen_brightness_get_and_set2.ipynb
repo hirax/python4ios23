{
 "cells": [
  {
   "cell_type": "markdown",
   "metadata": {},
   "source": [
    "画面の明るさを制御する"
   ]
  },
  {
   "cell_type": "code",
   "execution_count": 1,
   "metadata": {},
   "outputs": [],
   "source": [
    "# 必要なモジュールを読み込む\n",
    "from uikit.ui_screen_brightness import *\n",
    "import time\n",
    "\n",
    "# 現在の「画面の明るさ」を覚えておく\n",
    "current_brightness = get_screen_brightness()\n",
    "\n",
    "# 画面の明るさを(0-1.0の値範囲で)適当に設定してみる\n",
    "set_screen_brightness(0.3)\n",
    "time.sleep(1)\n",
    "\n",
    "# 画面の明るさを(0-1.0の値範囲で)適当に最大輝度に設定する\n",
    "set_screen_brightness(1.0)\n",
    "time.sleep(1)\n",
    "\n",
    "# 元の「画面の明るさ」に戻す\n",
    "set_screen_brightness(current_brightness)"
   ]
  },
  {
   "cell_type": "code",
   "execution_count": null,
   "metadata": {},
   "outputs": [],
   "source": []
  }
 ],
 "metadata": {
  "celltoolbar": "Tags",
  "kernelspec": {
   "display_name": "Python 3 (ipykernel)",
   "language": "python",
   "name": "python3"
  },
  "language_info": {
   "codemirror_mode": {
    "name": "ipython",
    "version": 3
   },
   "file_extension": ".py",
   "mimetype": "text/x-python",
   "name": "python",
   "nbconvert_exporter": "python",
   "pygments_lexer": "ipython3",
   "version": "3.8.16"
  },
  "toc": {
   "base_numbering": 1,
   "nav_menu": {},
   "number_sections": true,
   "sideBar": true,
   "skip_h1_title": false,
   "title_cell": "Table of Contents",
   "title_sidebar": "Contents",
   "toc_cell": false,
   "toc_position": {},
   "toc_section_display": true,
   "toc_window_display": false
  }
 },
 "nbformat": 4,
 "nbformat_minor": 2
}
