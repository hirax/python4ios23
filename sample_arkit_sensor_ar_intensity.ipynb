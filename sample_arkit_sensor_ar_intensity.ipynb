{
 "cells": [
  {
   "cell_type": "markdown",
   "metadata": {},
   "source": [
    "# センサ値を反映したAR可視化をする "
   ]
  },
  {
   "cell_type": "code",
   "execution_count": 1,
   "metadata": {},
   "outputs": [
    {
     "name": "stdout",
     "output_type": "stream",
     "text": [
      "ARFrameSemanticSmoothedSceneDepth is enabled.\n",
      "ARFrameSemanticSceneDepth is enabled.\n"
     ]
    }
   ],
   "source": [
    "# AR処理を行うMyARViewクラスに必要なモジュールを読み込む\n",
    "import arkit.arkit_sensor_ar_ex as ar\n",
    "\n",
    "# MyARViewクラスをインスタンス化して初期化する\n",
    "arview = ar.MyARView()\n",
    "arview.initScene()\n",
    "\n",
    "# ディスプレイ画面の大きさを調べて\n",
    "scr = ar.get_screen_size()\n",
    "# ディスプレイ画面の全面にAR表示を行う\n",
    "arview.initialize([0,0,scr.width,scr.height],\n",
    "                  False) # AR空間に座標軸や特徴点を表示するか\n",
    "\n",
    "from uikit.ui_screen_brightness import *\n",
    "import time\n",
    "\n",
    "for i in range(20):\n",
    "    time.sleep(1)\n",
    "    # 明るさを（画面の明るさ経由で）取得する\n",
    "    brightness = get_screen_brightness()\n",
    "    # iOSデバイスがいる場所に、球を置いていく\n",
    "    arview.add_element(\n",
    "      'sphere',                                   # 形状：球\n",
    "        [brightness, brightness, brightness, 0.7],  # 色(RGBA形式)\n",
    "         (brightness/2.0)**3,                       # 大きさ \n",
    "      0.05,                # 矢印の長さ\n",
    "      arview.position,     # 物体を追加する場所\n",
    "      arview.rotation)     # 物体の方向\n",
    "\n",
    "# 動作を終了させる\n",
    "arview.close_view()"
   ]
  },
  {
   "cell_type": "code",
   "execution_count": null,
   "metadata": {},
   "outputs": [],
   "source": []
  },
  {
   "cell_type": "code",
   "execution_count": null,
   "metadata": {},
   "outputs": [],
   "source": []
  }
 ],
 "metadata": {
  "kernelspec": {
   "display_name": "Python 3 (ipykernel)",
   "language": "python",
   "name": "python3"
  },
  "language_info": {
   "codemirror_mode": {
    "name": "ipython",
    "version": 3
   },
   "file_extension": ".py",
   "mimetype": "text/x-python",
   "name": "python",
   "nbconvert_exporter": "python",
   "pygments_lexer": "ipython3",
   "version": "3.11.0"
  },
  "toc": {
   "base_numbering": 1,
   "nav_menu": {},
   "number_sections": true,
   "sideBar": true,
   "skip_h1_title": false,
   "title_cell": "Table of Contents",
   "title_sidebar": "Contents",
   "toc_cell": false,
   "toc_position": {},
   "toc_section_display": true,
   "toc_window_display": false
  }
 },
 "nbformat": 4,
 "nbformat_minor": 2
}
