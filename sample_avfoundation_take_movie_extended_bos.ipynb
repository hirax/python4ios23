{
 "cells": [
  {
   "cell_type": "code",
   "execution_count": 8,
   "metadata": {},
   "outputs": [],
   "source": [
    "# UI表示などを行うためのモジュールを読み込む\n",
    "from uikit.ui_uiview import *\n",
    "# ビデオ画像のリアルタイム取得を行うためのモジュール\n",
    "from avfoundation.video_capture_ex import *\n",
    "import time\n",
    "\n",
    "# 画面サイズを取得する\n",
    "size = get_screen_bounds().size\n",
    "# プレビュー表示用のUIViewを作成する\n",
    "ui_view = create_uiview(\n",
    "    rect=CGRect( CGPoint(size.width/4/2, size.height/4/2),\n",
    "                 CGSize(3*size.width/4,  3*size.height/4)),\n",
    "    name='sample',  # UIViewの名前（特に使わない）\n",
    "    color=UIColor.color(red=0,green=0,blue=0,alpha=1) )"
   ]
  },
  {
   "cell_type": "code",
   "execution_count": 10,
   "metadata": {},
   "outputs": [],
   "source": [
    "# 取得画像を使った処理を行うユーザ関数に使う\n",
    "def process_view_image(npimg):\n",
    "    # 色画像情報にアクセスし、その画像の色順を変える\n",
    "    h, w = npimg.shape\n",
    "    return npimg.reshape(h,int(w/4),4)[:,:,[2,1,0,3]]\n",
    "\n",
    "AVCaptureVideoCaptureEx_=AVCaptureVideoCaptureEx(\n",
    "    # 取得デバイス\n",
    "    AVCaptureDeviceTypeBuiltInWideAngleCamera, \n",
    "    # カメラ位置\n",
    "    AVCaptureDevicePositionBack,\n",
    "    # 取得画像サイズ\n",
    "    'AVCaptureSessionPreset640x480',\n",
    "    # 画像色フォーマット\n",
    "    CV32BGRA,\n",
    "    # 取得画像を使った処理を行うユーザ関数\n",
    "    None,\n",
    "    # UIViewへの表示画像を生成するユーザ関数\n",
    "    process_view_image,\n",
    "    # 取得画像を表示するUIView\n",
    "    ui_view )              "
   ]
  },
  {
   "cell_type": "code",
   "execution_count": 11,
   "metadata": {},
   "outputs": [
    {
     "name": "stdout",
     "output_type": "stream",
     "text": [
      "processed_frames:17\n"
     ]
    }
   ],
   "source": [
    "# 撮影開始, 撮影インターバルを秒で指定\n",
    "AVCaptureVideoCaptureEx_.video_shooting_start(0.1) \n",
    "time.sleep(2) # 2秒間にわたり撮影を行う\n",
    "# 撮影を終了する\n",
    "AVCaptureVideoCaptureEx_.video_shooting_close(ui_view)"
   ]
  },
  {
   "cell_type": "code",
   "execution_count": null,
   "metadata": {},
   "outputs": [],
   "source": []
  }
 ],
 "metadata": {
  "celltoolbar": "Tags",
  "kernelspec": {
   "display_name": "Python 3 (ipykernel)",
   "language": "python",
   "name": "python3"
  },
  "language_info": {
   "codemirror_mode": {
    "name": "ipython",
    "version": 3
   },
   "file_extension": ".py",
   "mimetype": "text/x-python",
   "name": "python",
   "nbconvert_exporter": "python",
   "pygments_lexer": "ipython3",
   "version": "3.8.16"
  },
  "toc": {
   "base_numbering": 1,
   "nav_menu": {},
   "number_sections": true,
   "sideBar": true,
   "skip_h1_title": false,
   "title_cell": "Table of Contents",
   "title_sidebar": "Contents",
   "toc_cell": false,
   "toc_position": {},
   "toc_section_display": true,
   "toc_window_display": false
  }
 },
 "nbformat": 4,
 "nbformat_minor": 2
}
