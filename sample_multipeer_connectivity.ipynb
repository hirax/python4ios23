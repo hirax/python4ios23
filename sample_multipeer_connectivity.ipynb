{
 "cells": [
  {
   "cell_type": "markdown",
   "id": "e17f3ada",
   "metadata": {},
   "source": [
    "# Peer to Peer(P2P)通信でチャットする\n",
    "\n",
    "\n",
    "\n"
   ]
  },
  {
   "cell_type": "code",
   "execution_count": null,
   "id": "a525de1f",
   "metadata": {},
   "outputs": [],
   "source": [
    "!pip install pythonista-multipeer"
   ]
  },
  {
   "cell_type": "code",
   "execution_count": null,
   "id": "dc19b981",
   "metadata": {},
   "outputs": [],
   "source": [
    "import multipeer\n",
    "\n",
    "class MyMultipeerConnectivity(MultipeerConnectivity):\n",
    "    \n",
    "    def receive(self, message, from_peer):\n",
    "        print('Message from', from_peer.display_name, '-', message)"
   ]
  },
  {
   "cell_type": "code",
   "execution_count": null,
   "id": "0a207180",
   "metadata": {},
   "outputs": [],
   "source": [
    "import time\n",
    "\n",
    "mc = multipeer.MyMultipeerConnectivity(\n",
    "        display_name=\"iphone\",\n",
    "        service_type='our_chat')\n",
    "\n",
    "for i in range(20):\n",
    "    if i = 10:\n",
    "        mc.send(\"Hello!\")\n",
    "    time.sleep(1)\n",
    "\n",
    "mc.end_all()"
   ]
  },
  {
   "cell_type": "code",
   "execution_count": null,
   "id": "bcb35fb9",
   "metadata": {},
   "outputs": [],
   "source": [
    "import time\n",
    "\n",
    "mc = multipeer.MyMultipeerConnectivity(\n",
    "        display_name=\"iPad\",\n",
    "        service_type='our_chat')\n",
    "\n",
    "for i in range(20):\n",
    "    if i = 10:\n",
    "        mc.send(\"Hello!\")\n",
    "    time.sleep(1)\n",
    "\n",
    "mc.end_all()"
   ]
  }
 ],
 "metadata": {
  "kernelspec": {
   "display_name": "Python 3 (ipykernel)",
   "language": "python",
   "name": "python3"
  },
  "language_info": {
   "codemirror_mode": {
    "name": "ipython",
    "version": 3
   },
   "file_extension": ".py",
   "mimetype": "text/x-python",
   "name": "python",
   "nbconvert_exporter": "python",
   "pygments_lexer": "ipython3",
   "version": "3.8.16"
  },
  "toc": {
   "base_numbering": 1,
   "nav_menu": {},
   "number_sections": true,
   "sideBar": true,
   "skip_h1_title": false,
   "title_cell": "Table of Contents",
   "title_sidebar": "Contents",
   "toc_cell": false,
   "toc_position": {},
   "toc_section_display": true,
   "toc_window_display": true
  }
 },
 "nbformat": 4,
 "nbformat_minor": 5
}
