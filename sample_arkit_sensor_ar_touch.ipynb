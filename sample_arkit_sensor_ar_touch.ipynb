{
 "cells": [
  {
   "cell_type": "markdown",
   "metadata": {},
   "source": [
    "# AR処理中に画面タッチに応じて処理をする"
   ]
  },
  {
   "cell_type": "code",
   "execution_count": 4,
   "metadata": {
    "scrolled": false
   },
   "outputs": [
    {
     "name": "stdout",
     "output_type": "stream",
     "text": [
      "ARFrameSemanticSmoothedSceneDepth is enabled.\n",
      "ARFrameSemanticSceneDepth is enabled.\n",
      "(1440, 1920, 4)\n",
      "868\n",
      "925\n",
      "[0.69803922 0.64313725 0.50196078 1.        ]\n",
      "(1440, 1920, 4)\n",
      "915\n",
      "1002\n",
      "[0.64313725 0.58039216 0.43921569 1.        ]\n",
      "(1440, 1920, 4)\n",
      "1112\n",
      "807\n",
      "[0.07843137 0.05098039 0.02745098 1.        ]\n",
      "(1440, 1920, 4)\n",
      "984\n",
      "1167\n",
      "[0.71372549 0.48235294 0.18823529 1.        ]\n"
     ]
    }
   ],
   "source": [
    "# AR処理を行うMyARViewクラスに必要なモジュールを読み込む\n",
    "import arkit.arkit_sensor_ar_ex as ar\n",
    "from uikit.ui_uiimage_convert import *\n",
    "from coreimage.core_image import *\n",
    "\n",
    "# MyARViewクラスをインスタンス化して初期化する\n",
    "arview = ar.MyARView()\n",
    "arview.initScene()\n",
    "\n",
    "# ディスプレイ画面の大きさを調べて\n",
    "scr = ar.get_screen_size()\n",
    "\n",
    "rgbas = []\n",
    "x = None\n",
    "y = None\n",
    "def my_process(video_and_depth):\n",
    "    video = ui2np(ci2ui(pixelBuffer2ci(\n",
    "video_and_depth[\"video\"])))\n",
    "    video_h, video_w, ch = video.shape\n",
    "    _y = int(y/scr.height*video_w)\n",
    "    _x = int(x/scr.width*video_h)\n",
    "    print(video.shape)\n",
    "    rgbas.append(video[_x, _y]/255.0)\n",
    "    print(_y)\n",
    "    print(_x)\n",
    "    print(rgbas[-1])\n",
    "    \n",
    "def function_at_touch(locations):\n",
    "    global x, y\n",
    "    x = locations[-1].x\n",
    "    y = locations[-1].y\n",
    "    if arview.arsession.currentFrame():\n",
    "        # MyARView の「色画像・距離マップ画像」取得メソッドを呼ぶ\n",
    "        is_captured = arview.capture_video_and_depth(\n",
    "            my_process,  # ユーザー処理関数\n",
    "            False)    # 複数フレーム情報を使い「滑らか」にした距離マップ画像が必要か\n",
    "        if is_captured:\n",
    "            # iOSデバイスがいる場所に、球を置いていく\n",
    "            arview.add_element(\n",
    "                'sphere',              # 形状：球\n",
    "                [rgbas[-1][0],rgbas[-1][1],rgbas[-1][2],0.7],  # 色(RGBA形式)\n",
    "                #rgbas[-1],  # 色(RGBA形式)\n",
    "                0.02,                  # 大きさ \n",
    "              \n",
    "                None,                  # 矢印を表示する際の長さ：使わない\n",
    "                arview.position,       # 物体を追加する場所：自デバイスの位置\n",
    "                None)                  # 方向を表す表列：使わない\n",
    "\n",
    "arview.user_func_at_touch = function_at_touch\n",
    "\n",
    "import time\n",
    "\n",
    "# ディスプレイ画面にAR表示を行う\n",
    "arview.initialize([0,0,scr.width,scr.height],\n",
    "                  False) # AR空間に座標軸や特徴点を表示するか\n",
    "time.sleep(10)\n",
    "arview.close_view() # 動作を終了させる"
   ]
  },
  {
   "cell_type": "code",
   "execution_count": null,
   "metadata": {},
   "outputs": [],
   "source": []
  },
  {
   "cell_type": "code",
   "execution_count": null,
   "metadata": {},
   "outputs": [],
   "source": []
  },
  {
   "cell_type": "code",
   "execution_count": null,
   "metadata": {},
   "outputs": [],
   "source": []
  }
 ],
 "metadata": {
  "celltoolbar": "Tags",
  "kernelspec": {
   "display_name": "Python 3 (ipykernel)",
   "language": "python",
   "name": "python3"
  },
  "language_info": {
   "codemirror_mode": {
    "name": "ipython",
    "version": 3
   },
   "file_extension": ".py",
   "mimetype": "text/x-python",
   "name": "python",
   "nbconvert_exporter": "python",
   "pygments_lexer": "ipython3",
   "version": "3.11.0"
  },
  "toc": {
   "base_numbering": 1,
   "nav_menu": {},
   "number_sections": true,
   "sideBar": true,
   "skip_h1_title": false,
   "title_cell": "Table of Contents",
   "title_sidebar": "Contents",
   "toc_cell": false,
   "toc_position": {},
   "toc_section_display": true,
   "toc_window_display": false
  }
 },
 "nbformat": 4,
 "nbformat_minor": 2
}
