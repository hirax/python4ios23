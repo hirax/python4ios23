{
 "cells": [
  {
   "cell_type": "markdown",
   "metadata": {},
   "source": [
    "# 再生ピッチなどを変えながら音声再生をする"
   ]
  },
  {
   "cell_type": "code",
   "execution_count": 2,
   "metadata": {},
   "outputs": [],
   "source": [
    "# 必要なモジュールを読み込む\n",
    "from avfaudio.audio_player import *\n",
    "from os.path import abspath\n",
    "import time\n",
    "\n",
    "# 音声ファイルのパス\n",
    "url = NSURL.fileURLWithPath(abspath(\"I_will.mp3\"))\n",
    "\n",
    "# AVAudioPlayerを生成して、音声ファイルを読み込ませる\n",
    "player = av_audio_player_init_with_contents_of_url(url)\n",
    "#player_ = audioPlayer_fromUrl(url)\n",
    "# 再生速度の設定ができるようにした上で、再生速度を200%にする\n",
    "player.enableRate = True\n",
    "player.rate = 2.0         # 音声の再生速度 200%\n",
    "\n",
    "# 音声再生の準備をした上で\n",
    "player.prepareToPlay()\n",
    "\n",
    "# 音声再生・再生停止を繰り返す\n",
    "player.play()  # 音声再生\n",
    "time.sleep(2)\n",
    "player.pause() # 音声停止\n",
    "time.sleep(2)\n",
    "player.play()  # 音声再生\n",
    "time.sleep(2)\n",
    "player.stop()  # 音声停止"
   ]
  },
  {
   "cell_type": "code",
   "execution_count": null,
   "metadata": {},
   "outputs": [],
   "source": []
  }
 ],
 "metadata": {
  "kernelspec": {
   "display_name": "Python 3 (ipykernel)",
   "language": "python",
   "name": "python3"
  },
  "language_info": {
   "codemirror_mode": {
    "name": "ipython",
    "version": 3
   },
   "file_extension": ".py",
   "mimetype": "text/x-python",
   "name": "python",
   "nbconvert_exporter": "python",
   "pygments_lexer": "ipython3",
   "version": "3.8.16"
  },
  "toc": {
   "base_numbering": 1,
   "nav_menu": {},
   "number_sections": true,
   "sideBar": true,
   "skip_h1_title": false,
   "title_cell": "Table of Contents",
   "title_sidebar": "Contents",
   "toc_cell": false,
   "toc_position": {},
   "toc_section_display": true,
   "toc_window_display": false
  }
 },
 "nbformat": 4,
 "nbformat_minor": 2
}
