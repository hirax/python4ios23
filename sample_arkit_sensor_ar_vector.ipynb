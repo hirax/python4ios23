{
 "cells": [
  {
   "cell_type": "markdown",
   "metadata": {},
   "source": []
  },
  {
   "cell_type": "markdown",
   "metadata": {},
   "source": []
  },
  {
   "cell_type": "markdown",
   "metadata": {},
   "source": []
  },
  {
   "cell_type": "code",
   "execution_count": 1,
   "metadata": {},
   "outputs": [
    {
     "name": "stdout",
     "output_type": "stream",
     "text": [
      "ARFrameSemanticSmoothedSceneDepth is enabled.\n",
      "ARFrameSemanticSceneDepth is enabled.\n"
     ]
    }
   ],
   "source": [
    "# AR処理を行うMyARViewクラスに必要なモジュールを読み込む\n",
    "import arkit.arkit_sensor_ar_ex as ar\n",
    "\n",
    "# MyARViewクラスをインスタンス化して初期化する\n",
    "arview = ar.MyARView()\n",
    "arview.initScene()\n",
    "\n",
    "# ディスプレイ画面の大きさを調べて\n",
    "scr = ar.get_screen_size()\n",
    "# ディスプレイ画面の全面にAR表示を行う\n",
    "arview.initialize([0,0,scr.width,scr.height],\n",
    "        False) # AR空間に座標軸や特徴点を表示するか\n",
    "\n",
    "import time\n",
    "\n",
    "for i in range(20):\n",
    "    time.sleep(1)\n",
    "    # iOSデバイスがいる場所・iOSデバイスの向きに3次元矢印を置いていく\n",
    "    arview.add_element(\n",
    "      'arrow',             # 形状：3次元矢印\n",
    "      [1.0, 0.0, 1.0, 0.7],# 色(RGBA形式)\n",
    "      0.02,                # 大きさ \n",
    "      0.05,                # 矢印の長さ\n",
    "      arview.position,     # 物体を追加する場所\n",
    "      arview.rotation)     # 物体の方向\n",
    "\n",
    "# 動作を終了させる\n",
    "arview.close_view()"
   ]
  },
  {
   "cell_type": "markdown",
   "metadata": {},
   "source": []
  },
  {
   "cell_type": "code",
   "execution_count": null,
   "metadata": {},
   "outputs": [],
   "source": []
  }
 ],
 "metadata": {
  "celltoolbar": "Tags",
  "kernelspec": {
   "display_name": "Python 3 (ipykernel)",
   "language": "python",
   "name": "python3"
  },
  "language_info": {
   "codemirror_mode": {
    "name": "ipython",
    "version": 3
   },
   "file_extension": ".py",
   "mimetype": "text/x-python",
   "name": "python",
   "nbconvert_exporter": "python",
   "pygments_lexer": "ipython3",
   "version": "3.11.0"
  },
  "toc": {
   "base_numbering": 1,
   "nav_menu": {},
   "number_sections": true,
   "sideBar": true,
   "skip_h1_title": false,
   "title_cell": "Table of Contents",
   "title_sidebar": "Contents",
   "toc_cell": false,
   "toc_position": {},
   "toc_section_display": true,
   "toc_window_display": false
  }
 },
 "nbformat": 4,
 "nbformat_minor": 2
}
