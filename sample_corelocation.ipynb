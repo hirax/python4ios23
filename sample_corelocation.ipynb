{
 "cells": [
  {
   "cell_type": "markdown",
   "metadata": {},
   "source": [
    "GPSセンサ等から場所（緯度・経度）や向き・高さを取得する"
   ]
  },
  {
   "cell_type": "code",
   "execution_count": null,
   "metadata": {},
   "outputs": [],
   "source": [
    "from corelocation.cl_location_manager import *\n",
    "import time\n",
    "\n",
    "# 位置情報を調べるためのLocationManagerクラスのインスタンスを作る\n",
    "my_location_manager = LocationManager(kCLLocationAccuracyBest)\n",
    "\n",
    "# 場所と向きの計測開始を指示\n",
    "my_location_manager.start_update_location_and_heading()\n",
    "for i in range(20):\n",
    "    time.sleep(1)\n",
    "    # 場所と向き情報を取得・プリントしてする\n",
    "    print(my_location_manager.request_location_and_heading())\n",
    "# 計測を終了する\n",
    "my_location_manager.stop_update_location_and_heading()"
   ]
  },
  {
   "cell_type": "code",
   "execution_count": null,
   "metadata": {},
   "outputs": [],
   "source": []
  }
 ],
 "metadata": {
  "celltoolbar": "Tags",
  "kernelspec": {
   "display_name": "Python 3 (ipykernel)",
   "language": "python",
   "name": "python3"
  },
  "language_info": {
   "codemirror_mode": {
    "name": "ipython",
    "version": 3
   },
   "file_extension": ".py",
   "mimetype": "text/x-python",
   "name": "python",
   "nbconvert_exporter": "python",
   "pygments_lexer": "ipython3",
   "version": "3.8.16"
  },
  "toc": {
   "base_numbering": 1,
   "nav_menu": {},
   "number_sections": true,
   "sideBar": true,
   "skip_h1_title": false,
   "title_cell": "Table of Contents",
   "title_sidebar": "Contents",
   "toc_cell": false,
   "toc_position": {},
   "toc_section_display": true,
   "toc_window_display": false
  }
 },
 "nbformat": 4,
 "nbformat_minor": 2
}
